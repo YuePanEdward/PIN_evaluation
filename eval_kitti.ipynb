{
 "cells": [
  {
   "cell_type": "markdown",
   "metadata": {},
   "source": [
    "# PIN-SLAM running on the KITTI-Odometry benchmark dataset\n",
    "The aim of this notebook is to serve as a reproducible entry point for the experiments outlined in the paper.\n",
    "\n",
    "This notebook is inspired by [KISS-ICP](https://nbviewer.org/github/nachovizzo/kiss-icp/blob/main/evaluation/kitti.ipynb).\n",
    "\n",
    "Please download the dataset from [here](https://www.cvlibs.net/datasets/kitti/eval_odometry.php).\n",
    "\n",
    "To directly run this notebook without changing path, you need to put it in the parent directory of `eval`.\n",
    "\n",
    "Note: the results are slightly different using different random seeds and different hardwares."
   ]
  },
  {
   "cell_type": "code",
   "execution_count": 1,
   "metadata": {},
   "outputs": [
    {
     "name": "stdout",
     "output_type": "stream",
     "text": [
      "Jupyter environment detected. Enabling Open3D WebVisualizer.\n",
      "[Open3D INFO] WebRTC GUI backend enabled.\n",
      "[Open3D INFO] WebRTCWindowSystem: HTTP handshake server disabled.\n",
      "Device used: NVIDIA RTX A4000\n",
      "Now evaluate sequence 00\n"
     ]
    },
    {
     "name": "stderr",
     "output_type": "stream",
     "text": [
      "100%|██████████|4541/4541\n"
     ]
    },
    {
     "data": {
      "text/html": [
       "<pre style=\"white-space:pre;overflow-x:auto;line-height:normal;font-family:Menlo,'DejaVu Sans Mono',consolas,'Courier New',monospace\">Odometry evaluation:\n",
       "</pre>\n"
      ],
      "text/plain": [
       "Odometry evaluation:\n"
      ]
     },
     "metadata": {},
     "output_type": "display_data"
    },
    {
     "data": {
      "text/html": [
       "<pre style=\"white-space:pre;overflow-x:auto;line-height:normal;font-family:Menlo,'DejaVu Sans Mono',consolas,'Courier New',monospace\">Average Translation Error       <span style=\"font-weight: bold\">(</span>%<span style=\"font-weight: bold\">)</span>: <span style=\"color: #008080; text-decoration-color: #008080; font-weight: bold\">0.556</span>\n",
       "</pre>\n"
      ],
      "text/plain": [
       "Average Translation Error       \u001b[1m(\u001b[0m%\u001b[1m)\u001b[0m: \u001b[1;36m0.556\u001b[0m\n"
      ]
     },
     "metadata": {},
     "output_type": "display_data"
    },
    {
     "data": {
      "text/html": [
       "<pre style=\"white-space:pre;overflow-x:auto;line-height:normal;font-family:Menlo,'DejaVu Sans Mono',consolas,'Courier New',monospace\">Average Rotational Error <span style=\"font-weight: bold\">(</span>deg/100m<span style=\"font-weight: bold\">)</span>: <span style=\"color: #008080; text-decoration-color: #008080; font-weight: bold\">0.235</span>\n",
       "</pre>\n"
      ],
      "text/plain": [
       "Average Rotational Error \u001b[1m(\u001b[0mdeg/100m\u001b[1m)\u001b[0m: \u001b[1;36m0.235\u001b[0m\n"
      ]
     },
     "metadata": {},
     "output_type": "display_data"
    },
    {
     "data": {
      "text/html": [
       "<pre style=\"white-space:pre;overflow-x:auto;line-height:normal;font-family:Menlo,'DejaVu Sans Mono',consolas,'Courier New',monospace\">Absoulte Trajectory Error       <span style=\"font-weight: bold\">(</span>m<span style=\"font-weight: bold\">)</span>: <span style=\"color: #008080; text-decoration-color: #008080; font-weight: bold\">5.934</span>\n",
       "</pre>\n"
      ],
      "text/plain": [
       "Absoulte Trajectory Error       \u001b[1m(\u001b[0mm\u001b[1m)\u001b[0m: \u001b[1;36m5.934\u001b[0m\n"
      ]
     },
     "metadata": {},
     "output_type": "display_data"
    },
    {
     "data": {
      "text/html": [
       "<pre style=\"white-space:pre;overflow-x:auto;line-height:normal;font-family:Menlo,'DejaVu Sans Mono',consolas,'Courier New',monospace\">SLAM evaluation:\n",
       "</pre>\n"
      ],
      "text/plain": [
       "SLAM evaluation:\n"
      ]
     },
     "metadata": {},
     "output_type": "display_data"
    },
    {
     "data": {
      "text/html": [
       "<pre style=\"white-space:pre;overflow-x:auto;line-height:normal;font-family:Menlo,'DejaVu Sans Mono',consolas,'Courier New',monospace\">Average Translation Error       <span style=\"font-weight: bold\">(</span>%<span style=\"font-weight: bold\">)</span>: <span style=\"color: #008080; text-decoration-color: #008080; font-weight: bold\">0.598</span>\n",
       "</pre>\n"
      ],
      "text/plain": [
       "Average Translation Error       \u001b[1m(\u001b[0m%\u001b[1m)\u001b[0m: \u001b[1;36m0.598\u001b[0m\n"
      ]
     },
     "metadata": {},
     "output_type": "display_data"
    },
    {
     "data": {
      "text/html": [
       "<pre style=\"white-space:pre;overflow-x:auto;line-height:normal;font-family:Menlo,'DejaVu Sans Mono',consolas,'Courier New',monospace\">Average Rotational Error <span style=\"font-weight: bold\">(</span>deg/100m<span style=\"font-weight: bold\">)</span>: <span style=\"color: #008080; text-decoration-color: #008080; font-weight: bold\">0.170</span>\n",
       "</pre>\n"
      ],
      "text/plain": [
       "Average Rotational Error \u001b[1m(\u001b[0mdeg/100m\u001b[1m)\u001b[0m: \u001b[1;36m0.170\u001b[0m\n"
      ]
     },
     "metadata": {},
     "output_type": "display_data"
    },
    {
     "data": {
      "text/html": [
       "<pre style=\"white-space:pre;overflow-x:auto;line-height:normal;font-family:Menlo,'DejaVu Sans Mono',consolas,'Courier New',monospace\">Absoulte Trajectory Error       <span style=\"font-weight: bold\">(</span>m<span style=\"font-weight: bold\">)</span>: <span style=\"color: #008080; text-decoration-color: #008080; font-weight: bold\">0.841</span>\n",
       "</pre>\n"
      ],
      "text/plain": [
       "Absoulte Trajectory Error       \u001b[1m(\u001b[0mm\u001b[1m)\u001b[0m: \u001b[1;36m0.841\u001b[0m\n"
      ]
     },
     "metadata": {},
     "output_type": "display_data"
    },
    {
     "data": {
      "text/html": [
       "<pre style=\"white-space:pre;overflow-x:auto;line-height:normal;font-family:Menlo,'DejaVu Sans Mono',consolas,'Courier New',monospace\"># Loop corrected:  <span style=\"color: #008080; text-decoration-color: #008080; font-weight: bold\">34</span>\n",
       "</pre>\n"
      ],
      "text/plain": [
       "# Loop corrected:  \u001b[1;36m34\u001b[0m\n"
      ]
     },
     "metadata": {},
     "output_type": "display_data"
    },
    {
     "name": "stdout",
     "output_type": "stream",
     "text": [
      "Now evaluate sequence 01\n"
     ]
    },
    {
     "name": "stderr",
     "output_type": "stream",
     "text": [
      "100%|██████████|1101/1101\n"
     ]
    },
    {
     "data": {
      "text/html": [
       "<pre style=\"white-space:pre;overflow-x:auto;line-height:normal;font-family:Menlo,'DejaVu Sans Mono',consolas,'Courier New',monospace\">Odometry evaluation:\n",
       "</pre>\n"
      ],
      "text/plain": [
       "Odometry evaluation:\n"
      ]
     },
     "metadata": {},
     "output_type": "display_data"
    },
    {
     "data": {
      "text/html": [
       "<pre style=\"white-space:pre;overflow-x:auto;line-height:normal;font-family:Menlo,'DejaVu Sans Mono',consolas,'Courier New',monospace\">Average Translation Error       <span style=\"font-weight: bold\">(</span>%<span style=\"font-weight: bold\">)</span>: <span style=\"color: #008080; text-decoration-color: #008080; font-weight: bold\">0.809</span>\n",
       "</pre>\n"
      ],
      "text/plain": [
       "Average Translation Error       \u001b[1m(\u001b[0m%\u001b[1m)\u001b[0m: \u001b[1;36m0.809\u001b[0m\n"
      ]
     },
     "metadata": {},
     "output_type": "display_data"
    },
    {
     "data": {
      "text/html": [
       "<pre style=\"white-space:pre;overflow-x:auto;line-height:normal;font-family:Menlo,'DejaVu Sans Mono',consolas,'Courier New',monospace\">Average Rotational Error <span style=\"font-weight: bold\">(</span>deg/100m<span style=\"font-weight: bold\">)</span>: <span style=\"color: #008080; text-decoration-color: #008080; font-weight: bold\">0.073</span>\n",
       "</pre>\n"
      ],
      "text/plain": [
       "Average Rotational Error \u001b[1m(\u001b[0mdeg/100m\u001b[1m)\u001b[0m: \u001b[1;36m0.073\u001b[0m\n"
      ]
     },
     "metadata": {},
     "output_type": "display_data"
    },
    {
     "data": {
      "text/html": [
       "<pre style=\"white-space:pre;overflow-x:auto;line-height:normal;font-family:Menlo,'DejaVu Sans Mono',consolas,'Courier New',monospace\">Absoulte Trajectory Error       <span style=\"font-weight: bold\">(</span>m<span style=\"font-weight: bold\">)</span>: <span style=\"color: #008080; text-decoration-color: #008080; font-weight: bold\">2.052</span>\n",
       "</pre>\n"
      ],
      "text/plain": [
       "Absoulte Trajectory Error       \u001b[1m(\u001b[0mm\u001b[1m)\u001b[0m: \u001b[1;36m2.052\u001b[0m\n"
      ]
     },
     "metadata": {},
     "output_type": "display_data"
    },
    {
     "data": {
      "text/html": [
       "<pre style=\"white-space:pre;overflow-x:auto;line-height:normal;font-family:Menlo,'DejaVu Sans Mono',consolas,'Courier New',monospace\">SLAM evaluation:\n",
       "</pre>\n"
      ],
      "text/plain": [
       "SLAM evaluation:\n"
      ]
     },
     "metadata": {},
     "output_type": "display_data"
    },
    {
     "data": {
      "text/html": [
       "<pre style=\"white-space:pre;overflow-x:auto;line-height:normal;font-family:Menlo,'DejaVu Sans Mono',consolas,'Courier New',monospace\">Average Translation Error       <span style=\"font-weight: bold\">(</span>%<span style=\"font-weight: bold\">)</span>: <span style=\"color: #008080; text-decoration-color: #008080; font-weight: bold\">0.809</span>\n",
       "</pre>\n"
      ],
      "text/plain": [
       "Average Translation Error       \u001b[1m(\u001b[0m%\u001b[1m)\u001b[0m: \u001b[1;36m0.809\u001b[0m\n"
      ]
     },
     "metadata": {},
     "output_type": "display_data"
    },
    {
     "data": {
      "text/html": [
       "<pre style=\"white-space:pre;overflow-x:auto;line-height:normal;font-family:Menlo,'DejaVu Sans Mono',consolas,'Courier New',monospace\">Average Rotational Error <span style=\"font-weight: bold\">(</span>deg/100m<span style=\"font-weight: bold\">)</span>: <span style=\"color: #008080; text-decoration-color: #008080; font-weight: bold\">0.073</span>\n",
       "</pre>\n"
      ],
      "text/plain": [
       "Average Rotational Error \u001b[1m(\u001b[0mdeg/100m\u001b[1m)\u001b[0m: \u001b[1;36m0.073\u001b[0m\n"
      ]
     },
     "metadata": {},
     "output_type": "display_data"
    },
    {
     "data": {
      "text/html": [
       "<pre style=\"white-space:pre;overflow-x:auto;line-height:normal;font-family:Menlo,'DejaVu Sans Mono',consolas,'Courier New',monospace\">Absoulte Trajectory Error       <span style=\"font-weight: bold\">(</span>m<span style=\"font-weight: bold\">)</span>: <span style=\"color: #008080; text-decoration-color: #008080; font-weight: bold\">2.052</span>\n",
       "</pre>\n"
      ],
      "text/plain": [
       "Absoulte Trajectory Error       \u001b[1m(\u001b[0mm\u001b[1m)\u001b[0m: \u001b[1;36m2.052\u001b[0m\n"
      ]
     },
     "metadata": {},
     "output_type": "display_data"
    },
    {
     "name": "stdout",
     "output_type": "stream",
     "text": [
      "Now evaluate sequence 02\n"
     ]
    },
    {
     "name": "stderr",
     "output_type": "stream",
     "text": [
      "100%|██████████|4661/4661\n"
     ]
    },
    {
     "data": {
      "text/html": [
       "<pre style=\"white-space:pre;overflow-x:auto;line-height:normal;font-family:Menlo,'DejaVu Sans Mono',consolas,'Courier New',monospace\">Odometry evaluation:\n",
       "</pre>\n"
      ],
      "text/plain": [
       "Odometry evaluation:\n"
      ]
     },
     "metadata": {},
     "output_type": "display_data"
    },
    {
     "data": {
      "text/html": [
       "<pre style=\"white-space:pre;overflow-x:auto;line-height:normal;font-family:Menlo,'DejaVu Sans Mono',consolas,'Courier New',monospace\">Average Translation Error       <span style=\"font-weight: bold\">(</span>%<span style=\"font-weight: bold\">)</span>: <span style=\"color: #008080; text-decoration-color: #008080; font-weight: bold\">0.574</span>\n",
       "</pre>\n"
      ],
      "text/plain": [
       "Average Translation Error       \u001b[1m(\u001b[0m%\u001b[1m)\u001b[0m: \u001b[1;36m0.574\u001b[0m\n"
      ]
     },
     "metadata": {},
     "output_type": "display_data"
    },
    {
     "data": {
      "text/html": [
       "<pre style=\"white-space:pre;overflow-x:auto;line-height:normal;font-family:Menlo,'DejaVu Sans Mono',consolas,'Courier New',monospace\">Average Rotational Error <span style=\"font-weight: bold\">(</span>deg/100m<span style=\"font-weight: bold\">)</span>: <span style=\"color: #008080; text-decoration-color: #008080; font-weight: bold\">0.189</span>\n",
       "</pre>\n"
      ],
      "text/plain": [
       "Average Rotational Error \u001b[1m(\u001b[0mdeg/100m\u001b[1m)\u001b[0m: \u001b[1;36m0.189\u001b[0m\n"
      ]
     },
     "metadata": {},
     "output_type": "display_data"
    },
    {
     "data": {
      "text/html": [
       "<pre style=\"white-space:pre;overflow-x:auto;line-height:normal;font-family:Menlo,'DejaVu Sans Mono',consolas,'Courier New',monospace\">Absoulte Trajectory Error       <span style=\"font-weight: bold\">(</span>m<span style=\"font-weight: bold\">)</span>: <span style=\"color: #008080; text-decoration-color: #008080; font-weight: bold\">10.332</span>\n",
       "</pre>\n"
      ],
      "text/plain": [
       "Absoulte Trajectory Error       \u001b[1m(\u001b[0mm\u001b[1m)\u001b[0m: \u001b[1;36m10.332\u001b[0m\n"
      ]
     },
     "metadata": {},
     "output_type": "display_data"
    },
    {
     "data": {
      "text/html": [
       "<pre style=\"white-space:pre;overflow-x:auto;line-height:normal;font-family:Menlo,'DejaVu Sans Mono',consolas,'Courier New',monospace\">SLAM evaluation:\n",
       "</pre>\n"
      ],
      "text/plain": [
       "SLAM evaluation:\n"
      ]
     },
     "metadata": {},
     "output_type": "display_data"
    },
    {
     "data": {
      "text/html": [
       "<pre style=\"white-space:pre;overflow-x:auto;line-height:normal;font-family:Menlo,'DejaVu Sans Mono',consolas,'Courier New',monospace\">Average Translation Error       <span style=\"font-weight: bold\">(</span>%<span style=\"font-weight: bold\">)</span>: <span style=\"color: #008080; text-decoration-color: #008080; font-weight: bold\">0.586</span>\n",
       "</pre>\n"
      ],
      "text/plain": [
       "Average Translation Error       \u001b[1m(\u001b[0m%\u001b[1m)\u001b[0m: \u001b[1;36m0.586\u001b[0m\n"
      ]
     },
     "metadata": {},
     "output_type": "display_data"
    },
    {
     "data": {
      "text/html": [
       "<pre style=\"white-space:pre;overflow-x:auto;line-height:normal;font-family:Menlo,'DejaVu Sans Mono',consolas,'Courier New',monospace\">Average Rotational Error <span style=\"font-weight: bold\">(</span>deg/100m<span style=\"font-weight: bold\">)</span>: <span style=\"color: #008080; text-decoration-color: #008080; font-weight: bold\">0.127</span>\n",
       "</pre>\n"
      ],
      "text/plain": [
       "Average Rotational Error \u001b[1m(\u001b[0mdeg/100m\u001b[1m)\u001b[0m: \u001b[1;36m0.127\u001b[0m\n"
      ]
     },
     "metadata": {},
     "output_type": "display_data"
    },
    {
     "data": {
      "text/html": [
       "<pre style=\"white-space:pre;overflow-x:auto;line-height:normal;font-family:Menlo,'DejaVu Sans Mono',consolas,'Courier New',monospace\">Absoulte Trajectory Error       <span style=\"font-weight: bold\">(</span>m<span style=\"font-weight: bold\">)</span>: <span style=\"color: #008080; text-decoration-color: #008080; font-weight: bold\">2.085</span>\n",
       "</pre>\n"
      ],
      "text/plain": [
       "Absoulte Trajectory Error       \u001b[1m(\u001b[0mm\u001b[1m)\u001b[0m: \u001b[1;36m2.085\u001b[0m\n"
      ]
     },
     "metadata": {},
     "output_type": "display_data"
    },
    {
     "data": {
      "text/html": [
       "<pre style=\"white-space:pre;overflow-x:auto;line-height:normal;font-family:Menlo,'DejaVu Sans Mono',consolas,'Courier New',monospace\"># Loop corrected:  <span style=\"color: #008080; text-decoration-color: #008080; font-weight: bold\">13</span>\n",
       "</pre>\n"
      ],
      "text/plain": [
       "# Loop corrected:  \u001b[1;36m13\u001b[0m\n"
      ]
     },
     "metadata": {},
     "output_type": "display_data"
    },
    {
     "name": "stdout",
     "output_type": "stream",
     "text": [
      "Now evaluate sequence 03\n"
     ]
    },
    {
     "name": "stderr",
     "output_type": "stream",
     "text": [
      "100%|██████████|801/801\n"
     ]
    },
    {
     "data": {
      "text/html": [
       "<pre style=\"white-space:pre;overflow-x:auto;line-height:normal;font-family:Menlo,'DejaVu Sans Mono',consolas,'Courier New',monospace\">Odometry evaluation:\n",
       "</pre>\n"
      ],
      "text/plain": [
       "Odometry evaluation:\n"
      ]
     },
     "metadata": {},
     "output_type": "display_data"
    },
    {
     "data": {
      "text/html": [
       "<pre style=\"white-space:pre;overflow-x:auto;line-height:normal;font-family:Menlo,'DejaVu Sans Mono',consolas,'Courier New',monospace\">Average Translation Error       <span style=\"font-weight: bold\">(</span>%<span style=\"font-weight: bold\">)</span>: <span style=\"color: #008080; text-decoration-color: #008080; font-weight: bold\">0.792</span>\n",
       "</pre>\n"
      ],
      "text/plain": [
       "Average Translation Error       \u001b[1m(\u001b[0m%\u001b[1m)\u001b[0m: \u001b[1;36m0.792\u001b[0m\n"
      ]
     },
     "metadata": {},
     "output_type": "display_data"
    },
    {
     "data": {
      "text/html": [
       "<pre style=\"white-space:pre;overflow-x:auto;line-height:normal;font-family:Menlo,'DejaVu Sans Mono',consolas,'Courier New',monospace\">Average Rotational Error <span style=\"font-weight: bold\">(</span>deg/100m<span style=\"font-weight: bold\">)</span>: <span style=\"color: #008080; text-decoration-color: #008080; font-weight: bold\">0.255</span>\n",
       "</pre>\n"
      ],
      "text/plain": [
       "Average Rotational Error \u001b[1m(\u001b[0mdeg/100m\u001b[1m)\u001b[0m: \u001b[1;36m0.255\u001b[0m\n"
      ]
     },
     "metadata": {},
     "output_type": "display_data"
    },
    {
     "data": {
      "text/html": [
       "<pre style=\"white-space:pre;overflow-x:auto;line-height:normal;font-family:Menlo,'DejaVu Sans Mono',consolas,'Courier New',monospace\">Absoulte Trajectory Error       <span style=\"font-weight: bold\">(</span>m<span style=\"font-weight: bold\">)</span>: <span style=\"color: #008080; text-decoration-color: #008080; font-weight: bold\">0.791</span>\n",
       "</pre>\n"
      ],
      "text/plain": [
       "Absoulte Trajectory Error       \u001b[1m(\u001b[0mm\u001b[1m)\u001b[0m: \u001b[1;36m0.791\u001b[0m\n"
      ]
     },
     "metadata": {},
     "output_type": "display_data"
    },
    {
     "data": {
      "text/html": [
       "<pre style=\"white-space:pre;overflow-x:auto;line-height:normal;font-family:Menlo,'DejaVu Sans Mono',consolas,'Courier New',monospace\">SLAM evaluation:\n",
       "</pre>\n"
      ],
      "text/plain": [
       "SLAM evaluation:\n"
      ]
     },
     "metadata": {},
     "output_type": "display_data"
    },
    {
     "data": {
      "text/html": [
       "<pre style=\"white-space:pre;overflow-x:auto;line-height:normal;font-family:Menlo,'DejaVu Sans Mono',consolas,'Courier New',monospace\">Average Translation Error       <span style=\"font-weight: bold\">(</span>%<span style=\"font-weight: bold\">)</span>: <span style=\"color: #008080; text-decoration-color: #008080; font-weight: bold\">0.792</span>\n",
       "</pre>\n"
      ],
      "text/plain": [
       "Average Translation Error       \u001b[1m(\u001b[0m%\u001b[1m)\u001b[0m: \u001b[1;36m0.792\u001b[0m\n"
      ]
     },
     "metadata": {},
     "output_type": "display_data"
    },
    {
     "data": {
      "text/html": [
       "<pre style=\"white-space:pre;overflow-x:auto;line-height:normal;font-family:Menlo,'DejaVu Sans Mono',consolas,'Courier New',monospace\">Average Rotational Error <span style=\"font-weight: bold\">(</span>deg/100m<span style=\"font-weight: bold\">)</span>: <span style=\"color: #008080; text-decoration-color: #008080; font-weight: bold\">0.255</span>\n",
       "</pre>\n"
      ],
      "text/plain": [
       "Average Rotational Error \u001b[1m(\u001b[0mdeg/100m\u001b[1m)\u001b[0m: \u001b[1;36m0.255\u001b[0m\n"
      ]
     },
     "metadata": {},
     "output_type": "display_data"
    },
    {
     "data": {
      "text/html": [
       "<pre style=\"white-space:pre;overflow-x:auto;line-height:normal;font-family:Menlo,'DejaVu Sans Mono',consolas,'Courier New',monospace\">Absoulte Trajectory Error       <span style=\"font-weight: bold\">(</span>m<span style=\"font-weight: bold\">)</span>: <span style=\"color: #008080; text-decoration-color: #008080; font-weight: bold\">0.791</span>\n",
       "</pre>\n"
      ],
      "text/plain": [
       "Absoulte Trajectory Error       \u001b[1m(\u001b[0mm\u001b[1m)\u001b[0m: \u001b[1;36m0.791\u001b[0m\n"
      ]
     },
     "metadata": {},
     "output_type": "display_data"
    },
    {
     "name": "stdout",
     "output_type": "stream",
     "text": [
      "Now evaluate sequence 04\n"
     ]
    },
    {
     "name": "stderr",
     "output_type": "stream",
     "text": [
      "100%|██████████|271/271\n"
     ]
    },
    {
     "data": {
      "text/html": [
       "<pre style=\"white-space:pre;overflow-x:auto;line-height:normal;font-family:Menlo,'DejaVu Sans Mono',consolas,'Courier New',monospace\">Odometry evaluation:\n",
       "</pre>\n"
      ],
      "text/plain": [
       "Odometry evaluation:\n"
      ]
     },
     "metadata": {},
     "output_type": "display_data"
    },
    {
     "data": {
      "text/html": [
       "<pre style=\"white-space:pre;overflow-x:auto;line-height:normal;font-family:Menlo,'DejaVu Sans Mono',consolas,'Courier New',monospace\">Average Translation Error       <span style=\"font-weight: bold\">(</span>%<span style=\"font-weight: bold\">)</span>: <span style=\"color: #008080; text-decoration-color: #008080; font-weight: bold\">0.200</span>\n",
       "</pre>\n"
      ],
      "text/plain": [
       "Average Translation Error       \u001b[1m(\u001b[0m%\u001b[1m)\u001b[0m: \u001b[1;36m0.200\u001b[0m\n"
      ]
     },
     "metadata": {},
     "output_type": "display_data"
    },
    {
     "data": {
      "text/html": [
       "<pre style=\"white-space:pre;overflow-x:auto;line-height:normal;font-family:Menlo,'DejaVu Sans Mono',consolas,'Courier New',monospace\">Average Rotational Error <span style=\"font-weight: bold\">(</span>deg/100m<span style=\"font-weight: bold\">)</span>: <span style=\"color: #008080; text-decoration-color: #008080; font-weight: bold\">0.160</span>\n",
       "</pre>\n"
      ],
      "text/plain": [
       "Average Rotational Error \u001b[1m(\u001b[0mdeg/100m\u001b[1m)\u001b[0m: \u001b[1;36m0.160\u001b[0m\n"
      ]
     },
     "metadata": {},
     "output_type": "display_data"
    },
    {
     "data": {
      "text/html": [
       "<pre style=\"white-space:pre;overflow-x:auto;line-height:normal;font-family:Menlo,'DejaVu Sans Mono',consolas,'Courier New',monospace\">Absoulte Trajectory Error       <span style=\"font-weight: bold\">(</span>m<span style=\"font-weight: bold\">)</span>: <span style=\"color: #008080; text-decoration-color: #008080; font-weight: bold\">0.125</span>\n",
       "</pre>\n"
      ],
      "text/plain": [
       "Absoulte Trajectory Error       \u001b[1m(\u001b[0mm\u001b[1m)\u001b[0m: \u001b[1;36m0.125\u001b[0m\n"
      ]
     },
     "metadata": {},
     "output_type": "display_data"
    },
    {
     "data": {
      "text/html": [
       "<pre style=\"white-space:pre;overflow-x:auto;line-height:normal;font-family:Menlo,'DejaVu Sans Mono',consolas,'Courier New',monospace\">SLAM evaluation:\n",
       "</pre>\n"
      ],
      "text/plain": [
       "SLAM evaluation:\n"
      ]
     },
     "metadata": {},
     "output_type": "display_data"
    },
    {
     "data": {
      "text/html": [
       "<pre style=\"white-space:pre;overflow-x:auto;line-height:normal;font-family:Menlo,'DejaVu Sans Mono',consolas,'Courier New',monospace\">Average Translation Error       <span style=\"font-weight: bold\">(</span>%<span style=\"font-weight: bold\">)</span>: <span style=\"color: #008080; text-decoration-color: #008080; font-weight: bold\">0.200</span>\n",
       "</pre>\n"
      ],
      "text/plain": [
       "Average Translation Error       \u001b[1m(\u001b[0m%\u001b[1m)\u001b[0m: \u001b[1;36m0.200\u001b[0m\n"
      ]
     },
     "metadata": {},
     "output_type": "display_data"
    },
    {
     "data": {
      "text/html": [
       "<pre style=\"white-space:pre;overflow-x:auto;line-height:normal;font-family:Menlo,'DejaVu Sans Mono',consolas,'Courier New',monospace\">Average Rotational Error <span style=\"font-weight: bold\">(</span>deg/100m<span style=\"font-weight: bold\">)</span>: <span style=\"color: #008080; text-decoration-color: #008080; font-weight: bold\">0.160</span>\n",
       "</pre>\n"
      ],
      "text/plain": [
       "Average Rotational Error \u001b[1m(\u001b[0mdeg/100m\u001b[1m)\u001b[0m: \u001b[1;36m0.160\u001b[0m\n"
      ]
     },
     "metadata": {},
     "output_type": "display_data"
    },
    {
     "data": {
      "text/html": [
       "<pre style=\"white-space:pre;overflow-x:auto;line-height:normal;font-family:Menlo,'DejaVu Sans Mono',consolas,'Courier New',monospace\">Absoulte Trajectory Error       <span style=\"font-weight: bold\">(</span>m<span style=\"font-weight: bold\">)</span>: <span style=\"color: #008080; text-decoration-color: #008080; font-weight: bold\">0.125</span>\n",
       "</pre>\n"
      ],
      "text/plain": [
       "Absoulte Trajectory Error       \u001b[1m(\u001b[0mm\u001b[1m)\u001b[0m: \u001b[1;36m0.125\u001b[0m\n"
      ]
     },
     "metadata": {},
     "output_type": "display_data"
    },
    {
     "name": "stdout",
     "output_type": "stream",
     "text": [
      "Now evaluate sequence 05\n"
     ]
    },
    {
     "name": "stderr",
     "output_type": "stream",
     "text": [
      "100%|██████████|2761/2761\n"
     ]
    },
    {
     "data": {
      "text/html": [
       "<pre style=\"white-space:pre;overflow-x:auto;line-height:normal;font-family:Menlo,'DejaVu Sans Mono',consolas,'Courier New',monospace\">Odometry evaluation:\n",
       "</pre>\n"
      ],
      "text/plain": [
       "Odometry evaluation:\n"
      ]
     },
     "metadata": {},
     "output_type": "display_data"
    },
    {
     "data": {
      "text/html": [
       "<pre style=\"white-space:pre;overflow-x:auto;line-height:normal;font-family:Menlo,'DejaVu Sans Mono',consolas,'Courier New',monospace\">Average Translation Error       <span style=\"font-weight: bold\">(</span>%<span style=\"font-weight: bold\">)</span>: <span style=\"color: #008080; text-decoration-color: #008080; font-weight: bold\">0.285</span>\n",
       "</pre>\n"
      ],
      "text/plain": [
       "Average Translation Error       \u001b[1m(\u001b[0m%\u001b[1m)\u001b[0m: \u001b[1;36m0.285\u001b[0m\n"
      ]
     },
     "metadata": {},
     "output_type": "display_data"
    },
    {
     "data": {
      "text/html": [
       "<pre style=\"white-space:pre;overflow-x:auto;line-height:normal;font-family:Menlo,'DejaVu Sans Mono',consolas,'Courier New',monospace\">Average Rotational Error <span style=\"font-weight: bold\">(</span>deg/100m<span style=\"font-weight: bold\">)</span>: <span style=\"color: #008080; text-decoration-color: #008080; font-weight: bold\">0.134</span>\n",
       "</pre>\n"
      ],
      "text/plain": [
       "Average Rotational Error \u001b[1m(\u001b[0mdeg/100m\u001b[1m)\u001b[0m: \u001b[1;36m0.134\u001b[0m\n"
      ]
     },
     "metadata": {},
     "output_type": "display_data"
    },
    {
     "data": {
      "text/html": [
       "<pre style=\"white-space:pre;overflow-x:auto;line-height:normal;font-family:Menlo,'DejaVu Sans Mono',consolas,'Courier New',monospace\">Absoulte Trajectory Error       <span style=\"font-weight: bold\">(</span>m<span style=\"font-weight: bold\">)</span>: <span style=\"color: #008080; text-decoration-color: #008080; font-weight: bold\">1.562</span>\n",
       "</pre>\n"
      ],
      "text/plain": [
       "Absoulte Trajectory Error       \u001b[1m(\u001b[0mm\u001b[1m)\u001b[0m: \u001b[1;36m1.562\u001b[0m\n"
      ]
     },
     "metadata": {},
     "output_type": "display_data"
    },
    {
     "data": {
      "text/html": [
       "<pre style=\"white-space:pre;overflow-x:auto;line-height:normal;font-family:Menlo,'DejaVu Sans Mono',consolas,'Courier New',monospace\">SLAM evaluation:\n",
       "</pre>\n"
      ],
      "text/plain": [
       "SLAM evaluation:\n"
      ]
     },
     "metadata": {},
     "output_type": "display_data"
    },
    {
     "data": {
      "text/html": [
       "<pre style=\"white-space:pre;overflow-x:auto;line-height:normal;font-family:Menlo,'DejaVu Sans Mono',consolas,'Courier New',monospace\">Average Translation Error       <span style=\"font-weight: bold\">(</span>%<span style=\"font-weight: bold\">)</span>: <span style=\"color: #008080; text-decoration-color: #008080; font-weight: bold\">0.314</span>\n",
       "</pre>\n"
      ],
      "text/plain": [
       "Average Translation Error       \u001b[1m(\u001b[0m%\u001b[1m)\u001b[0m: \u001b[1;36m0.314\u001b[0m\n"
      ]
     },
     "metadata": {},
     "output_type": "display_data"
    },
    {
     "data": {
      "text/html": [
       "<pre style=\"white-space:pre;overflow-x:auto;line-height:normal;font-family:Menlo,'DejaVu Sans Mono',consolas,'Courier New',monospace\">Average Rotational Error <span style=\"font-weight: bold\">(</span>deg/100m<span style=\"font-weight: bold\">)</span>: <span style=\"color: #008080; text-decoration-color: #008080; font-weight: bold\">0.075</span>\n",
       "</pre>\n"
      ],
      "text/plain": [
       "Average Rotational Error \u001b[1m(\u001b[0mdeg/100m\u001b[1m)\u001b[0m: \u001b[1;36m0.075\u001b[0m\n"
      ]
     },
     "metadata": {},
     "output_type": "display_data"
    },
    {
     "data": {
      "text/html": [
       "<pre style=\"white-space:pre;overflow-x:auto;line-height:normal;font-family:Menlo,'DejaVu Sans Mono',consolas,'Courier New',monospace\">Absoulte Trajectory Error       <span style=\"font-weight: bold\">(</span>m<span style=\"font-weight: bold\">)</span>: <span style=\"color: #008080; text-decoration-color: #008080; font-weight: bold\">0.317</span>\n",
       "</pre>\n"
      ],
      "text/plain": [
       "Absoulte Trajectory Error       \u001b[1m(\u001b[0mm\u001b[1m)\u001b[0m: \u001b[1;36m0.317\u001b[0m\n"
      ]
     },
     "metadata": {},
     "output_type": "display_data"
    },
    {
     "data": {
      "text/html": [
       "<pre style=\"white-space:pre;overflow-x:auto;line-height:normal;font-family:Menlo,'DejaVu Sans Mono',consolas,'Courier New',monospace\"># Loop corrected:  <span style=\"color: #008080; text-decoration-color: #008080; font-weight: bold\">20</span>\n",
       "</pre>\n"
      ],
      "text/plain": [
       "# Loop corrected:  \u001b[1;36m20\u001b[0m\n"
      ]
     },
     "metadata": {},
     "output_type": "display_data"
    },
    {
     "name": "stdout",
     "output_type": "stream",
     "text": [
      "Now evaluate sequence 06\n"
     ]
    },
    {
     "name": "stderr",
     "output_type": "stream",
     "text": [
      "100%|██████████|1101/1101\n"
     ]
    },
    {
     "data": {
      "text/html": [
       "<pre style=\"white-space:pre;overflow-x:auto;line-height:normal;font-family:Menlo,'DejaVu Sans Mono',consolas,'Courier New',monospace\">Odometry evaluation:\n",
       "</pre>\n"
      ],
      "text/plain": [
       "Odometry evaluation:\n"
      ]
     },
     "metadata": {},
     "output_type": "display_data"
    },
    {
     "data": {
      "text/html": [
       "<pre style=\"white-space:pre;overflow-x:auto;line-height:normal;font-family:Menlo,'DejaVu Sans Mono',consolas,'Courier New',monospace\">Average Translation Error       <span style=\"font-weight: bold\">(</span>%<span style=\"font-weight: bold\">)</span>: <span style=\"color: #008080; text-decoration-color: #008080; font-weight: bold\">0.352</span>\n",
       "</pre>\n"
      ],
      "text/plain": [
       "Average Translation Error       \u001b[1m(\u001b[0m%\u001b[1m)\u001b[0m: \u001b[1;36m0.352\u001b[0m\n"
      ]
     },
     "metadata": {},
     "output_type": "display_data"
    },
    {
     "data": {
      "text/html": [
       "<pre style=\"white-space:pre;overflow-x:auto;line-height:normal;font-family:Menlo,'DejaVu Sans Mono',consolas,'Courier New',monospace\">Average Rotational Error <span style=\"font-weight: bold\">(</span>deg/100m<span style=\"font-weight: bold\">)</span>: <span style=\"color: #008080; text-decoration-color: #008080; font-weight: bold\">0.088</span>\n",
       "</pre>\n"
      ],
      "text/plain": [
       "Average Rotational Error \u001b[1m(\u001b[0mdeg/100m\u001b[1m)\u001b[0m: \u001b[1;36m0.088\u001b[0m\n"
      ]
     },
     "metadata": {},
     "output_type": "display_data"
    },
    {
     "data": {
      "text/html": [
       "<pre style=\"white-space:pre;overflow-x:auto;line-height:normal;font-family:Menlo,'DejaVu Sans Mono',consolas,'Courier New',monospace\">Absoulte Trajectory Error       <span style=\"font-weight: bold\">(</span>m<span style=\"font-weight: bold\">)</span>: <span style=\"color: #008080; text-decoration-color: #008080; font-weight: bold\">0.519</span>\n",
       "</pre>\n"
      ],
      "text/plain": [
       "Absoulte Trajectory Error       \u001b[1m(\u001b[0mm\u001b[1m)\u001b[0m: \u001b[1;36m0.519\u001b[0m\n"
      ]
     },
     "metadata": {},
     "output_type": "display_data"
    },
    {
     "data": {
      "text/html": [
       "<pre style=\"white-space:pre;overflow-x:auto;line-height:normal;font-family:Menlo,'DejaVu Sans Mono',consolas,'Courier New',monospace\">SLAM evaluation:\n",
       "</pre>\n"
      ],
      "text/plain": [
       "SLAM evaluation:\n"
      ]
     },
     "metadata": {},
     "output_type": "display_data"
    },
    {
     "data": {
      "text/html": [
       "<pre style=\"white-space:pre;overflow-x:auto;line-height:normal;font-family:Menlo,'DejaVu Sans Mono',consolas,'Courier New',monospace\">Average Translation Error       <span style=\"font-weight: bold\">(</span>%<span style=\"font-weight: bold\">)</span>: <span style=\"color: #008080; text-decoration-color: #008080; font-weight: bold\">0.381</span>\n",
       "</pre>\n"
      ],
      "text/plain": [
       "Average Translation Error       \u001b[1m(\u001b[0m%\u001b[1m)\u001b[0m: \u001b[1;36m0.381\u001b[0m\n"
      ]
     },
     "metadata": {},
     "output_type": "display_data"
    },
    {
     "data": {
      "text/html": [
       "<pre style=\"white-space:pre;overflow-x:auto;line-height:normal;font-family:Menlo,'DejaVu Sans Mono',consolas,'Courier New',monospace\">Average Rotational Error <span style=\"font-weight: bold\">(</span>deg/100m<span style=\"font-weight: bold\">)</span>: <span style=\"color: #008080; text-decoration-color: #008080; font-weight: bold\">0.082</span>\n",
       "</pre>\n"
      ],
      "text/plain": [
       "Average Rotational Error \u001b[1m(\u001b[0mdeg/100m\u001b[1m)\u001b[0m: \u001b[1;36m0.082\u001b[0m\n"
      ]
     },
     "metadata": {},
     "output_type": "display_data"
    },
    {
     "data": {
      "text/html": [
       "<pre style=\"white-space:pre;overflow-x:auto;line-height:normal;font-family:Menlo,'DejaVu Sans Mono',consolas,'Courier New',monospace\">Absoulte Trajectory Error       <span style=\"font-weight: bold\">(</span>m<span style=\"font-weight: bold\">)</span>: <span style=\"color: #008080; text-decoration-color: #008080; font-weight: bold\">0.442</span>\n",
       "</pre>\n"
      ],
      "text/plain": [
       "Absoulte Trajectory Error       \u001b[1m(\u001b[0mm\u001b[1m)\u001b[0m: \u001b[1;36m0.442\u001b[0m\n"
      ]
     },
     "metadata": {},
     "output_type": "display_data"
    },
    {
     "data": {
      "text/html": [
       "<pre style=\"white-space:pre;overflow-x:auto;line-height:normal;font-family:Menlo,'DejaVu Sans Mono',consolas,'Courier New',monospace\"># Loop corrected:  <span style=\"color: #008080; text-decoration-color: #008080; font-weight: bold\">13</span>\n",
       "</pre>\n"
      ],
      "text/plain": [
       "# Loop corrected:  \u001b[1;36m13\u001b[0m\n"
      ]
     },
     "metadata": {},
     "output_type": "display_data"
    },
    {
     "name": "stdout",
     "output_type": "stream",
     "text": [
      "Now evaluate sequence 07\n"
     ]
    },
    {
     "name": "stderr",
     "output_type": "stream",
     "text": [
      "100%|██████████|1101/1101\n"
     ]
    },
    {
     "data": {
      "text/html": [
       "<pre style=\"white-space:pre;overflow-x:auto;line-height:normal;font-family:Menlo,'DejaVu Sans Mono',consolas,'Courier New',monospace\">Odometry evaluation:\n",
       "</pre>\n"
      ],
      "text/plain": [
       "Odometry evaluation:\n"
      ]
     },
     "metadata": {},
     "output_type": "display_data"
    },
    {
     "data": {
      "text/html": [
       "<pre style=\"white-space:pre;overflow-x:auto;line-height:normal;font-family:Menlo,'DejaVu Sans Mono',consolas,'Courier New',monospace\">Average Translation Error       <span style=\"font-weight: bold\">(</span>%<span style=\"font-weight: bold\">)</span>: <span style=\"color: #008080; text-decoration-color: #008080; font-weight: bold\">0.323</span>\n",
       "</pre>\n"
      ],
      "text/plain": [
       "Average Translation Error       \u001b[1m(\u001b[0m%\u001b[1m)\u001b[0m: \u001b[1;36m0.323\u001b[0m\n"
      ]
     },
     "metadata": {},
     "output_type": "display_data"
    },
    {
     "data": {
      "text/html": [
       "<pre style=\"white-space:pre;overflow-x:auto;line-height:normal;font-family:Menlo,'DejaVu Sans Mono',consolas,'Courier New',monospace\">Average Rotational Error <span style=\"font-weight: bold\">(</span>deg/100m<span style=\"font-weight: bold\">)</span>: <span style=\"color: #008080; text-decoration-color: #008080; font-weight: bold\">0.180</span>\n",
       "</pre>\n"
      ],
      "text/plain": [
       "Average Rotational Error \u001b[1m(\u001b[0mdeg/100m\u001b[1m)\u001b[0m: \u001b[1;36m0.180\u001b[0m\n"
      ]
     },
     "metadata": {},
     "output_type": "display_data"
    },
    {
     "data": {
      "text/html": [
       "<pre style=\"white-space:pre;overflow-x:auto;line-height:normal;font-family:Menlo,'DejaVu Sans Mono',consolas,'Courier New',monospace\">Absoulte Trajectory Error       <span style=\"font-weight: bold\">(</span>m<span style=\"font-weight: bold\">)</span>: <span style=\"color: #008080; text-decoration-color: #008080; font-weight: bold\">0.498</span>\n",
       "</pre>\n"
      ],
      "text/plain": [
       "Absoulte Trajectory Error       \u001b[1m(\u001b[0mm\u001b[1m)\u001b[0m: \u001b[1;36m0.498\u001b[0m\n"
      ]
     },
     "metadata": {},
     "output_type": "display_data"
    },
    {
     "data": {
      "text/html": [
       "<pre style=\"white-space:pre;overflow-x:auto;line-height:normal;font-family:Menlo,'DejaVu Sans Mono',consolas,'Courier New',monospace\">SLAM evaluation:\n",
       "</pre>\n"
      ],
      "text/plain": [
       "SLAM evaluation:\n"
      ]
     },
     "metadata": {},
     "output_type": "display_data"
    },
    {
     "data": {
      "text/html": [
       "<pre style=\"white-space:pre;overflow-x:auto;line-height:normal;font-family:Menlo,'DejaVu Sans Mono',consolas,'Courier New',monospace\">Average Translation Error       <span style=\"font-weight: bold\">(</span>%<span style=\"font-weight: bold\">)</span>: <span style=\"color: #008080; text-decoration-color: #008080; font-weight: bold\">0.373</span>\n",
       "</pre>\n"
      ],
      "text/plain": [
       "Average Translation Error       \u001b[1m(\u001b[0m%\u001b[1m)\u001b[0m: \u001b[1;36m0.373\u001b[0m\n"
      ]
     },
     "metadata": {},
     "output_type": "display_data"
    },
    {
     "data": {
      "text/html": [
       "<pre style=\"white-space:pre;overflow-x:auto;line-height:normal;font-family:Menlo,'DejaVu Sans Mono',consolas,'Courier New',monospace\">Average Rotational Error <span style=\"font-weight: bold\">(</span>deg/100m<span style=\"font-weight: bold\">)</span>: <span style=\"color: #008080; text-decoration-color: #008080; font-weight: bold\">0.121</span>\n",
       "</pre>\n"
      ],
      "text/plain": [
       "Average Rotational Error \u001b[1m(\u001b[0mdeg/100m\u001b[1m)\u001b[0m: \u001b[1;36m0.121\u001b[0m\n"
      ]
     },
     "metadata": {},
     "output_type": "display_data"
    },
    {
     "data": {
      "text/html": [
       "<pre style=\"white-space:pre;overflow-x:auto;line-height:normal;font-family:Menlo,'DejaVu Sans Mono',consolas,'Courier New',monospace\">Absoulte Trajectory Error       <span style=\"font-weight: bold\">(</span>m<span style=\"font-weight: bold\">)</span>: <span style=\"color: #008080; text-decoration-color: #008080; font-weight: bold\">0.287</span>\n",
       "</pre>\n"
      ],
      "text/plain": [
       "Absoulte Trajectory Error       \u001b[1m(\u001b[0mm\u001b[1m)\u001b[0m: \u001b[1;36m0.287\u001b[0m\n"
      ]
     },
     "metadata": {},
     "output_type": "display_data"
    },
    {
     "data": {
      "text/html": [
       "<pre style=\"white-space:pre;overflow-x:auto;line-height:normal;font-family:Menlo,'DejaVu Sans Mono',consolas,'Courier New',monospace\"># Loop corrected:  <span style=\"color: #008080; text-decoration-color: #008080; font-weight: bold\">1</span>\n",
       "</pre>\n"
      ],
      "text/plain": [
       "# Loop corrected:  \u001b[1;36m1\u001b[0m\n"
      ]
     },
     "metadata": {},
     "output_type": "display_data"
    },
    {
     "name": "stdout",
     "output_type": "stream",
     "text": [
      "Now evaluate sequence 08\n"
     ]
    },
    {
     "name": "stderr",
     "output_type": "stream",
     "text": [
      "100%|██████████|4071/4071\n"
     ]
    },
    {
     "data": {
      "text/html": [
       "<pre style=\"white-space:pre;overflow-x:auto;line-height:normal;font-family:Menlo,'DejaVu Sans Mono',consolas,'Courier New',monospace\">Odometry evaluation:\n",
       "</pre>\n"
      ],
      "text/plain": [
       "Odometry evaluation:\n"
      ]
     },
     "metadata": {},
     "output_type": "display_data"
    },
    {
     "data": {
      "text/html": [
       "<pre style=\"white-space:pre;overflow-x:auto;line-height:normal;font-family:Menlo,'DejaVu Sans Mono',consolas,'Courier New',monospace\">Average Translation Error       <span style=\"font-weight: bold\">(</span>%<span style=\"font-weight: bold\">)</span>: <span style=\"color: #008080; text-decoration-color: #008080; font-weight: bold\">0.773</span>\n",
       "</pre>\n"
      ],
      "text/plain": [
       "Average Translation Error       \u001b[1m(\u001b[0m%\u001b[1m)\u001b[0m: \u001b[1;36m0.773\u001b[0m\n"
      ]
     },
     "metadata": {},
     "output_type": "display_data"
    },
    {
     "data": {
      "text/html": [
       "<pre style=\"white-space:pre;overflow-x:auto;line-height:normal;font-family:Menlo,'DejaVu Sans Mono',consolas,'Courier New',monospace\">Average Rotational Error <span style=\"font-weight: bold\">(</span>deg/100m<span style=\"font-weight: bold\">)</span>: <span style=\"color: #008080; text-decoration-color: #008080; font-weight: bold\">0.198</span>\n",
       "</pre>\n"
      ],
      "text/plain": [
       "Average Rotational Error \u001b[1m(\u001b[0mdeg/100m\u001b[1m)\u001b[0m: \u001b[1;36m0.198\u001b[0m\n"
      ]
     },
     "metadata": {},
     "output_type": "display_data"
    },
    {
     "data": {
      "text/html": [
       "<pre style=\"white-space:pre;overflow-x:auto;line-height:normal;font-family:Menlo,'DejaVu Sans Mono',consolas,'Courier New',monospace\">Absoulte Trajectory Error       <span style=\"font-weight: bold\">(</span>m<span style=\"font-weight: bold\">)</span>: <span style=\"color: #008080; text-decoration-color: #008080; font-weight: bold\">2.892</span>\n",
       "</pre>\n"
      ],
      "text/plain": [
       "Absoulte Trajectory Error       \u001b[1m(\u001b[0mm\u001b[1m)\u001b[0m: \u001b[1;36m2.892\u001b[0m\n"
      ]
     },
     "metadata": {},
     "output_type": "display_data"
    },
    {
     "data": {
      "text/html": [
       "<pre style=\"white-space:pre;overflow-x:auto;line-height:normal;font-family:Menlo,'DejaVu Sans Mono',consolas,'Courier New',monospace\">SLAM evaluation:\n",
       "</pre>\n"
      ],
      "text/plain": [
       "SLAM evaluation:\n"
      ]
     },
     "metadata": {},
     "output_type": "display_data"
    },
    {
     "data": {
      "text/html": [
       "<pre style=\"white-space:pre;overflow-x:auto;line-height:normal;font-family:Menlo,'DejaVu Sans Mono',consolas,'Courier New',monospace\">Average Translation Error       <span style=\"font-weight: bold\">(</span>%<span style=\"font-weight: bold\">)</span>: <span style=\"color: #008080; text-decoration-color: #008080; font-weight: bold\">0.809</span>\n",
       "</pre>\n"
      ],
      "text/plain": [
       "Average Translation Error       \u001b[1m(\u001b[0m%\u001b[1m)\u001b[0m: \u001b[1;36m0.809\u001b[0m\n"
      ]
     },
     "metadata": {},
     "output_type": "display_data"
    },
    {
     "data": {
      "text/html": [
       "<pre style=\"white-space:pre;overflow-x:auto;line-height:normal;font-family:Menlo,'DejaVu Sans Mono',consolas,'Courier New',monospace\">Average Rotational Error <span style=\"font-weight: bold\">(</span>deg/100m<span style=\"font-weight: bold\">)</span>: <span style=\"color: #008080; text-decoration-color: #008080; font-weight: bold\">0.147</span>\n",
       "</pre>\n"
      ],
      "text/plain": [
       "Average Rotational Error \u001b[1m(\u001b[0mdeg/100m\u001b[1m)\u001b[0m: \u001b[1;36m0.147\u001b[0m\n"
      ]
     },
     "metadata": {},
     "output_type": "display_data"
    },
    {
     "data": {
      "text/html": [
       "<pre style=\"white-space:pre;overflow-x:auto;line-height:normal;font-family:Menlo,'DejaVu Sans Mono',consolas,'Courier New',monospace\">Absoulte Trajectory Error       <span style=\"font-weight: bold\">(</span>m<span style=\"font-weight: bold\">)</span>: <span style=\"color: #008080; text-decoration-color: #008080; font-weight: bold\">1.839</span>\n",
       "</pre>\n"
      ],
      "text/plain": [
       "Absoulte Trajectory Error       \u001b[1m(\u001b[0mm\u001b[1m)\u001b[0m: \u001b[1;36m1.839\u001b[0m\n"
      ]
     },
     "metadata": {},
     "output_type": "display_data"
    },
    {
     "data": {
      "text/html": [
       "<pre style=\"white-space:pre;overflow-x:auto;line-height:normal;font-family:Menlo,'DejaVu Sans Mono',consolas,'Courier New',monospace\"># Loop corrected:  <span style=\"color: #008080; text-decoration-color: #008080; font-weight: bold\">8</span>\n",
       "</pre>\n"
      ],
      "text/plain": [
       "# Loop corrected:  \u001b[1;36m8\u001b[0m\n"
      ]
     },
     "metadata": {},
     "output_type": "display_data"
    },
    {
     "name": "stdout",
     "output_type": "stream",
     "text": [
      "Now evaluate sequence 09\n"
     ]
    },
    {
     "name": "stderr",
     "output_type": "stream",
     "text": [
      "100%|██████████|1591/1591\n"
     ]
    },
    {
     "data": {
      "text/html": [
       "<pre style=\"white-space:pre;overflow-x:auto;line-height:normal;font-family:Menlo,'DejaVu Sans Mono',consolas,'Courier New',monospace\">Odometry evaluation:\n",
       "</pre>\n"
      ],
      "text/plain": [
       "Odometry evaluation:\n"
      ]
     },
     "metadata": {},
     "output_type": "display_data"
    },
    {
     "data": {
      "text/html": [
       "<pre style=\"white-space:pre;overflow-x:auto;line-height:normal;font-family:Menlo,'DejaVu Sans Mono',consolas,'Courier New',monospace\">Average Translation Error       <span style=\"font-weight: bold\">(</span>%<span style=\"font-weight: bold\">)</span>: <span style=\"color: #008080; text-decoration-color: #008080; font-weight: bold\">0.599</span>\n",
       "</pre>\n"
      ],
      "text/plain": [
       "Average Translation Error       \u001b[1m(\u001b[0m%\u001b[1m)\u001b[0m: \u001b[1;36m0.599\u001b[0m\n"
      ]
     },
     "metadata": {},
     "output_type": "display_data"
    },
    {
     "data": {
      "text/html": [
       "<pre style=\"white-space:pre;overflow-x:auto;line-height:normal;font-family:Menlo,'DejaVu Sans Mono',consolas,'Courier New',monospace\">Average Rotational Error <span style=\"font-weight: bold\">(</span>deg/100m<span style=\"font-weight: bold\">)</span>: <span style=\"color: #008080; text-decoration-color: #008080; font-weight: bold\">0.150</span>\n",
       "</pre>\n"
      ],
      "text/plain": [
       "Average Rotational Error \u001b[1m(\u001b[0mdeg/100m\u001b[1m)\u001b[0m: \u001b[1;36m0.150\u001b[0m\n"
      ]
     },
     "metadata": {},
     "output_type": "display_data"
    },
    {
     "data": {
      "text/html": [
       "<pre style=\"white-space:pre;overflow-x:auto;line-height:normal;font-family:Menlo,'DejaVu Sans Mono',consolas,'Courier New',monospace\">Absoulte Trajectory Error       <span style=\"font-weight: bold\">(</span>m<span style=\"font-weight: bold\">)</span>: <span style=\"color: #008080; text-decoration-color: #008080; font-weight: bold\">1.270</span>\n",
       "</pre>\n"
      ],
      "text/plain": [
       "Absoulte Trajectory Error       \u001b[1m(\u001b[0mm\u001b[1m)\u001b[0m: \u001b[1;36m1.270\u001b[0m\n"
      ]
     },
     "metadata": {},
     "output_type": "display_data"
    },
    {
     "data": {
      "text/html": [
       "<pre style=\"white-space:pre;overflow-x:auto;line-height:normal;font-family:Menlo,'DejaVu Sans Mono',consolas,'Courier New',monospace\">SLAM evaluation:\n",
       "</pre>\n"
      ],
      "text/plain": [
       "SLAM evaluation:\n"
      ]
     },
     "metadata": {},
     "output_type": "display_data"
    },
    {
     "data": {
      "text/html": [
       "<pre style=\"white-space:pre;overflow-x:auto;line-height:normal;font-family:Menlo,'DejaVu Sans Mono',consolas,'Courier New',monospace\">Average Translation Error       <span style=\"font-weight: bold\">(</span>%<span style=\"font-weight: bold\">)</span>: <span style=\"color: #008080; text-decoration-color: #008080; font-weight: bold\">0.666</span>\n",
       "</pre>\n"
      ],
      "text/plain": [
       "Average Translation Error       \u001b[1m(\u001b[0m%\u001b[1m)\u001b[0m: \u001b[1;36m0.666\u001b[0m\n"
      ]
     },
     "metadata": {},
     "output_type": "display_data"
    },
    {
     "data": {
      "text/html": [
       "<pre style=\"white-space:pre;overflow-x:auto;line-height:normal;font-family:Menlo,'DejaVu Sans Mono',consolas,'Courier New',monospace\">Average Rotational Error <span style=\"font-weight: bold\">(</span>deg/100m<span style=\"font-weight: bold\">)</span>: <span style=\"color: #008080; text-decoration-color: #008080; font-weight: bold\">0.124</span>\n",
       "</pre>\n"
      ],
      "text/plain": [
       "Average Rotational Error \u001b[1m(\u001b[0mdeg/100m\u001b[1m)\u001b[0m: \u001b[1;36m0.124\u001b[0m\n"
      ]
     },
     "metadata": {},
     "output_type": "display_data"
    },
    {
     "data": {
      "text/html": [
       "<pre style=\"white-space:pre;overflow-x:auto;line-height:normal;font-family:Menlo,'DejaVu Sans Mono',consolas,'Courier New',monospace\">Absoulte Trajectory Error       <span style=\"font-weight: bold\">(</span>m<span style=\"font-weight: bold\">)</span>: <span style=\"color: #008080; text-decoration-color: #008080; font-weight: bold\">1.239</span>\n",
       "</pre>\n"
      ],
      "text/plain": [
       "Absoulte Trajectory Error       \u001b[1m(\u001b[0mm\u001b[1m)\u001b[0m: \u001b[1;36m1.239\u001b[0m\n"
      ]
     },
     "metadata": {},
     "output_type": "display_data"
    },
    {
     "data": {
      "text/html": [
       "<pre style=\"white-space:pre;overflow-x:auto;line-height:normal;font-family:Menlo,'DejaVu Sans Mono',consolas,'Courier New',monospace\"># Loop corrected:  <span style=\"color: #008080; text-decoration-color: #008080; font-weight: bold\">1</span>\n",
       "</pre>\n"
      ],
      "text/plain": [
       "# Loop corrected:  \u001b[1;36m1\u001b[0m\n"
      ]
     },
     "metadata": {},
     "output_type": "display_data"
    },
    {
     "name": "stdout",
     "output_type": "stream",
     "text": [
      "Now evaluate sequence 10\n"
     ]
    },
    {
     "name": "stderr",
     "output_type": "stream",
     "text": [
      "100%|██████████|1201/1201\n"
     ]
    },
    {
     "data": {
      "text/html": [
       "<pre style=\"white-space:pre;overflow-x:auto;line-height:normal;font-family:Menlo,'DejaVu Sans Mono',consolas,'Courier New',monospace\">Odometry evaluation:\n",
       "</pre>\n"
      ],
      "text/plain": [
       "Odometry evaluation:\n"
      ]
     },
     "metadata": {},
     "output_type": "display_data"
    },
    {
     "data": {
      "text/html": [
       "<pre style=\"white-space:pre;overflow-x:auto;line-height:normal;font-family:Menlo,'DejaVu Sans Mono',consolas,'Courier New',monospace\">Average Translation Error       <span style=\"font-weight: bold\">(</span>%<span style=\"font-weight: bold\">)</span>: <span style=\"color: #008080; text-decoration-color: #008080; font-weight: bold\">0.485</span>\n",
       "</pre>\n"
      ],
      "text/plain": [
       "Average Translation Error       \u001b[1m(\u001b[0m%\u001b[1m)\u001b[0m: \u001b[1;36m0.485\u001b[0m\n"
      ]
     },
     "metadata": {},
     "output_type": "display_data"
    },
    {
     "data": {
      "text/html": [
       "<pre style=\"white-space:pre;overflow-x:auto;line-height:normal;font-family:Menlo,'DejaVu Sans Mono',consolas,'Courier New',monospace\">Average Rotational Error <span style=\"font-weight: bold\">(</span>deg/100m<span style=\"font-weight: bold\">)</span>: <span style=\"color: #008080; text-decoration-color: #008080; font-weight: bold\">0.141</span>\n",
       "</pre>\n"
      ],
      "text/plain": [
       "Average Rotational Error \u001b[1m(\u001b[0mdeg/100m\u001b[1m)\u001b[0m: \u001b[1;36m0.141\u001b[0m\n"
      ]
     },
     "metadata": {},
     "output_type": "display_data"
    },
    {
     "data": {
      "text/html": [
       "<pre style=\"white-space:pre;overflow-x:auto;line-height:normal;font-family:Menlo,'DejaVu Sans Mono',consolas,'Courier New',monospace\">Absoulte Trajectory Error       <span style=\"font-weight: bold\">(</span>m<span style=\"font-weight: bold\">)</span>: <span style=\"color: #008080; text-decoration-color: #008080; font-weight: bold\">0.774</span>\n",
       "</pre>\n"
      ],
      "text/plain": [
       "Absoulte Trajectory Error       \u001b[1m(\u001b[0mm\u001b[1m)\u001b[0m: \u001b[1;36m0.774\u001b[0m\n"
      ]
     },
     "metadata": {},
     "output_type": "display_data"
    },
    {
     "data": {
      "text/html": [
       "<pre style=\"white-space:pre;overflow-x:auto;line-height:normal;font-family:Menlo,'DejaVu Sans Mono',consolas,'Courier New',monospace\">SLAM evaluation:\n",
       "</pre>\n"
      ],
      "text/plain": [
       "SLAM evaluation:\n"
      ]
     },
     "metadata": {},
     "output_type": "display_data"
    },
    {
     "data": {
      "text/html": [
       "<pre style=\"white-space:pre;overflow-x:auto;line-height:normal;font-family:Menlo,'DejaVu Sans Mono',consolas,'Courier New',monospace\">Average Translation Error       <span style=\"font-weight: bold\">(</span>%<span style=\"font-weight: bold\">)</span>: <span style=\"color: #008080; text-decoration-color: #008080; font-weight: bold\">0.485</span>\n",
       "</pre>\n"
      ],
      "text/plain": [
       "Average Translation Error       \u001b[1m(\u001b[0m%\u001b[1m)\u001b[0m: \u001b[1;36m0.485\u001b[0m\n"
      ]
     },
     "metadata": {},
     "output_type": "display_data"
    },
    {
     "data": {
      "text/html": [
       "<pre style=\"white-space:pre;overflow-x:auto;line-height:normal;font-family:Menlo,'DejaVu Sans Mono',consolas,'Courier New',monospace\">Average Rotational Error <span style=\"font-weight: bold\">(</span>deg/100m<span style=\"font-weight: bold\">)</span>: <span style=\"color: #008080; text-decoration-color: #008080; font-weight: bold\">0.141</span>\n",
       "</pre>\n"
      ],
      "text/plain": [
       "Average Rotational Error \u001b[1m(\u001b[0mdeg/100m\u001b[1m)\u001b[0m: \u001b[1;36m0.141\u001b[0m\n"
      ]
     },
     "metadata": {},
     "output_type": "display_data"
    },
    {
     "data": {
      "text/html": [
       "<pre style=\"white-space:pre;overflow-x:auto;line-height:normal;font-family:Menlo,'DejaVu Sans Mono',consolas,'Courier New',monospace\">Absoulte Trajectory Error       <span style=\"font-weight: bold\">(</span>m<span style=\"font-weight: bold\">)</span>: <span style=\"color: #008080; text-decoration-color: #008080; font-weight: bold\">0.774</span>\n",
       "</pre>\n"
      ],
      "text/plain": [
       "Absoulte Trajectory Error       \u001b[1m(\u001b[0mm\u001b[1m)\u001b[0m: \u001b[1;36m0.774\u001b[0m\n"
      ]
     },
     "metadata": {},
     "output_type": "display_data"
    },
    {
     "data": {
      "text/markdown": [
       "# Experiment Results (KITTI dataset) \n",
       "|Metric|Value|\n",
       "|-:|:-|\n",
       "|Odometry ATE [%]|0.52|\n",
       "|Odometry ARE [deg/100m]|0.16|\n",
       "|SLAM RMSE [m]|0.98|\n"
      ]
     },
     "metadata": {},
     "output_type": "display_data"
    }
   ],
   "source": [
    "import pin_slam\n",
    "from eval.eval_traj_utils import get_metrics, mean_metrics\n",
    "import torch\n",
    "from IPython.display import display_markdown\n",
    "\n",
    "print('Device used:', torch.cuda.get_device_name(0))\n",
    "\n",
    "metrics_dicts = []\n",
    "for seq in range(11):\n",
    "    seq_str = f'{seq:02d}'\n",
    "    print('Now evaluate sequence '+ seq_str)\n",
    "    seq_results = pin_slam.run_pin_slam('./config/lidar_slam/run_kitti.yaml', 'kitti', seq_str)\n",
    "    metrics_dict = get_metrics(seq_results)\n",
    "    metrics_dicts.append(metrics_dict)\n",
    "\n",
    "metric_mean = mean_metrics(metrics_dicts)\n",
    "table_results = f\"# Experiment Results (KITTI dataset) \\n|Metric|Value|\\n|-:|:-|\\n\"\n",
    "for metric, result in metric_mean.items():\n",
    "    table_results += f\"|{metric}|{result:.2f}|\\n\"\n",
    "display_markdown(table_results, raw=True)"
   ]
  }
 ],
 "metadata": {
  "interpreter": {
   "hash": "916dbcbb3f70747c44a77c7bcd40155683ae19c65e1c03b4aa3499c5328201f1"
  },
  "kernelspec": {
   "display_name": "Python 3.8.10 64-bit",
   "language": "python",
   "name": "python3"
  },
  "language_info": {
   "codemirror_mode": {
    "name": "ipython",
    "version": 3
   },
   "file_extension": ".py",
   "mimetype": "text/x-python",
   "name": "python",
   "nbconvert_exporter": "python",
   "pygments_lexer": "ipython3",
   "version": "3.8.19"
  },
  "orig_nbformat": 4
 },
 "nbformat": 4,
 "nbformat_minor": 2
}
