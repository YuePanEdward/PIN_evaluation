{
 "cells": [
  {
   "cell_type": "markdown",
   "metadata": {},
   "source": [
    "# PIN-SLAM running on Newer College dataset\n",
    "The aim of this notebook is to serve as a reproducible entry point for the experiments outlined in the paper.\n",
    "\n",
    "To directly run this notebook without changing path, you need to put it in the parent directory of `eval`.\n",
    "\n",
    "Please download the dataset from [here](https://drive.google.com/drive/folders/15lTH5osZzZlDpcW7oXfR_2t8TNssNARS). Then you can use this [script](https://github.com/PRBonn/PIN_SLAM/blob/main/scripts/rosbag2ply.py) to extract point cloud frames from the rosbag and use this [script](https://github.com/PRBonn/PIN_SLAM/blob/main/dataset/converter/ncd128_pose_converter.py) to convert the reference pose to the KITTI format. \n",
    "\n",
    "Note: the results are slightly different using different random seeds and different hardwares.\n",
    "\n"
   ]
  },
  {
   "cell_type": "code",
   "execution_count": 2,
   "metadata": {},
   "outputs": [
    {
     "name": "stdout",
     "output_type": "stream",
     "text": [
      "Device used: NVIDIA RTX A4000\n",
      "Now evaluate sequence 01\n"
     ]
    },
    {
     "name": "stderr",
     "output_type": "stream",
     "text": [
      "100%|██████████|15301/15301\n"
     ]
    },
    {
     "data": {
      "text/html": [
       "<pre style=\"white-space:pre;overflow-x:auto;line-height:normal;font-family:Menlo,'DejaVu Sans Mono',consolas,'Courier New',monospace\">Odometry evaluation:\n",
       "</pre>\n"
      ],
      "text/plain": [
       "Odometry evaluation:\n"
      ]
     },
     "metadata": {},
     "output_type": "display_data"
    },
    {
     "data": {
      "text/html": [
       "<pre style=\"white-space:pre;overflow-x:auto;line-height:normal;font-family:Menlo,'DejaVu Sans Mono',consolas,'Courier New',monospace\">Average Translation Error       <span style=\"font-weight: bold\">(</span>%<span style=\"font-weight: bold\">)</span>: <span style=\"color: #008080; text-decoration-color: #008080; font-weight: bold\">0.950</span>\n",
       "</pre>\n"
      ],
      "text/plain": [
       "Average Translation Error       \u001b[1m(\u001b[0m%\u001b[1m)\u001b[0m: \u001b[1;36m0.950\u001b[0m\n"
      ]
     },
     "metadata": {},
     "output_type": "display_data"
    },
    {
     "data": {
      "text/html": [
       "<pre style=\"white-space:pre;overflow-x:auto;line-height:normal;font-family:Menlo,'DejaVu Sans Mono',consolas,'Courier New',monospace\">Average Rotational Error <span style=\"font-weight: bold\">(</span>deg/100m<span style=\"font-weight: bold\">)</span>: <span style=\"color: #008080; text-decoration-color: #008080; font-weight: bold\">1.090</span>\n",
       "</pre>\n"
      ],
      "text/plain": [
       "Average Rotational Error \u001b[1m(\u001b[0mdeg/100m\u001b[1m)\u001b[0m: \u001b[1;36m1.090\u001b[0m\n"
      ]
     },
     "metadata": {},
     "output_type": "display_data"
    },
    {
     "data": {
      "text/html": [
       "<pre style=\"white-space:pre;overflow-x:auto;line-height:normal;font-family:Menlo,'DejaVu Sans Mono',consolas,'Courier New',monospace\">Absoulte Trajectory Error       <span style=\"font-weight: bold\">(</span>m<span style=\"font-weight: bold\">)</span>: <span style=\"color: #008080; text-decoration-color: #008080; font-weight: bold\">2.076</span>\n",
       "</pre>\n"
      ],
      "text/plain": [
       "Absoulte Trajectory Error       \u001b[1m(\u001b[0mm\u001b[1m)\u001b[0m: \u001b[1;36m2.076\u001b[0m\n"
      ]
     },
     "metadata": {},
     "output_type": "display_data"
    },
    {
     "data": {
      "text/html": [
       "<pre style=\"white-space:pre;overflow-x:auto;line-height:normal;font-family:Menlo,'DejaVu Sans Mono',consolas,'Courier New',monospace\">SLAM evaluation:\n",
       "</pre>\n"
      ],
      "text/plain": [
       "SLAM evaluation:\n"
      ]
     },
     "metadata": {},
     "output_type": "display_data"
    },
    {
     "data": {
      "text/html": [
       "<pre style=\"white-space:pre;overflow-x:auto;line-height:normal;font-family:Menlo,'DejaVu Sans Mono',consolas,'Courier New',monospace\">Average Translation Error       <span style=\"font-weight: bold\">(</span>%<span style=\"font-weight: bold\">)</span>: <span style=\"color: #008080; text-decoration-color: #008080; font-weight: bold\">0.789</span>\n",
       "</pre>\n"
      ],
      "text/plain": [
       "Average Translation Error       \u001b[1m(\u001b[0m%\u001b[1m)\u001b[0m: \u001b[1;36m0.789\u001b[0m\n"
      ]
     },
     "metadata": {},
     "output_type": "display_data"
    },
    {
     "data": {
      "text/html": [
       "<pre style=\"white-space:pre;overflow-x:auto;line-height:normal;font-family:Menlo,'DejaVu Sans Mono',consolas,'Courier New',monospace\">Average Rotational Error <span style=\"font-weight: bold\">(</span>deg/100m<span style=\"font-weight: bold\">)</span>: <span style=\"color: #008080; text-decoration-color: #008080; font-weight: bold\">0.942</span>\n",
       "</pre>\n"
      ],
      "text/plain": [
       "Average Rotational Error \u001b[1m(\u001b[0mdeg/100m\u001b[1m)\u001b[0m: \u001b[1;36m0.942\u001b[0m\n"
      ]
     },
     "metadata": {},
     "output_type": "display_data"
    },
    {
     "data": {
      "text/html": [
       "<pre style=\"white-space:pre;overflow-x:auto;line-height:normal;font-family:Menlo,'DejaVu Sans Mono',consolas,'Courier New',monospace\">Absoulte Trajectory Error       <span style=\"font-weight: bold\">(</span>m<span style=\"font-weight: bold\">)</span>: <span style=\"color: #008080; text-decoration-color: #008080; font-weight: bold\">0.425</span>\n",
       "</pre>\n"
      ],
      "text/plain": [
       "Absoulte Trajectory Error       \u001b[1m(\u001b[0mm\u001b[1m)\u001b[0m: \u001b[1;36m0.425\u001b[0m\n"
      ]
     },
     "metadata": {},
     "output_type": "display_data"
    },
    {
     "data": {
      "text/html": [
       "<pre style=\"white-space:pre;overflow-x:auto;line-height:normal;font-family:Menlo,'DejaVu Sans Mono',consolas,'Courier New',monospace\"># Loop corrected:  <span style=\"color: #008080; text-decoration-color: #008080; font-weight: bold\">155</span>\n",
       "</pre>\n"
      ],
      "text/plain": [
       "# Loop corrected:  \u001b[1;36m155\u001b[0m\n"
      ]
     },
     "metadata": {},
     "output_type": "display_data"
    },
    {
     "name": "stdout",
     "output_type": "stream",
     "text": [
      "Now evaluate sequence 02\n"
     ]
    },
    {
     "name": "stderr",
     "output_type": "stream",
     "text": [
      "100%|██████████|26559/26559\n"
     ]
    },
    {
     "data": {
      "text/html": [
       "<pre style=\"white-space:pre;overflow-x:auto;line-height:normal;font-family:Menlo,'DejaVu Sans Mono',consolas,'Courier New',monospace\">Odometry evaluation:\n",
       "</pre>\n"
      ],
      "text/plain": [
       "Odometry evaluation:\n"
      ]
     },
     "metadata": {},
     "output_type": "display_data"
    },
    {
     "data": {
      "text/html": [
       "<pre style=\"white-space:pre;overflow-x:auto;line-height:normal;font-family:Menlo,'DejaVu Sans Mono',consolas,'Courier New',monospace\">Average Translation Error       <span style=\"font-weight: bold\">(</span>%<span style=\"font-weight: bold\">)</span>: <span style=\"color: #008080; text-decoration-color: #008080; font-weight: bold\">0.952</span>\n",
       "</pre>\n"
      ],
      "text/plain": [
       "Average Translation Error       \u001b[1m(\u001b[0m%\u001b[1m)\u001b[0m: \u001b[1;36m0.952\u001b[0m\n"
      ]
     },
     "metadata": {},
     "output_type": "display_data"
    },
    {
     "data": {
      "text/html": [
       "<pre style=\"white-space:pre;overflow-x:auto;line-height:normal;font-family:Menlo,'DejaVu Sans Mono',consolas,'Courier New',monospace\">Average Rotational Error <span style=\"font-weight: bold\">(</span>deg/100m<span style=\"font-weight: bold\">)</span>: <span style=\"color: #008080; text-decoration-color: #008080; font-weight: bold\">1.127</span>\n",
       "</pre>\n"
      ],
      "text/plain": [
       "Average Rotational Error \u001b[1m(\u001b[0mdeg/100m\u001b[1m)\u001b[0m: \u001b[1;36m1.127\u001b[0m\n"
      ]
     },
     "metadata": {},
     "output_type": "display_data"
    },
    {
     "data": {
      "text/html": [
       "<pre style=\"white-space:pre;overflow-x:auto;line-height:normal;font-family:Menlo,'DejaVu Sans Mono',consolas,'Courier New',monospace\">Absoulte Trajectory Error       <span style=\"font-weight: bold\">(</span>m<span style=\"font-weight: bold\">)</span>: <span style=\"color: #008080; text-decoration-color: #008080; font-weight: bold\">5.324</span>\n",
       "</pre>\n"
      ],
      "text/plain": [
       "Absoulte Trajectory Error       \u001b[1m(\u001b[0mm\u001b[1m)\u001b[0m: \u001b[1;36m5.324\u001b[0m\n"
      ]
     },
     "metadata": {},
     "output_type": "display_data"
    },
    {
     "data": {
      "text/html": [
       "<pre style=\"white-space:pre;overflow-x:auto;line-height:normal;font-family:Menlo,'DejaVu Sans Mono',consolas,'Courier New',monospace\">SLAM evaluation:\n",
       "</pre>\n"
      ],
      "text/plain": [
       "SLAM evaluation:\n"
      ]
     },
     "metadata": {},
     "output_type": "display_data"
    },
    {
     "data": {
      "text/html": [
       "<pre style=\"white-space:pre;overflow-x:auto;line-height:normal;font-family:Menlo,'DejaVu Sans Mono',consolas,'Courier New',monospace\">Average Translation Error       <span style=\"font-weight: bold\">(</span>%<span style=\"font-weight: bold\">)</span>: <span style=\"color: #008080; text-decoration-color: #008080; font-weight: bold\">0.684</span>\n",
       "</pre>\n"
      ],
      "text/plain": [
       "Average Translation Error       \u001b[1m(\u001b[0m%\u001b[1m)\u001b[0m: \u001b[1;36m0.684\u001b[0m\n"
      ]
     },
     "metadata": {},
     "output_type": "display_data"
    },
    {
     "data": {
      "text/html": [
       "<pre style=\"white-space:pre;overflow-x:auto;line-height:normal;font-family:Menlo,'DejaVu Sans Mono',consolas,'Courier New',monospace\">Average Rotational Error <span style=\"font-weight: bold\">(</span>deg/100m<span style=\"font-weight: bold\">)</span>: <span style=\"color: #008080; text-decoration-color: #008080; font-weight: bold\">0.975</span>\n",
       "</pre>\n"
      ],
      "text/plain": [
       "Average Rotational Error \u001b[1m(\u001b[0mdeg/100m\u001b[1m)\u001b[0m: \u001b[1;36m0.975\u001b[0m\n"
      ]
     },
     "metadata": {},
     "output_type": "display_data"
    },
    {
     "data": {
      "text/html": [
       "<pre style=\"white-space:pre;overflow-x:auto;line-height:normal;font-family:Menlo,'DejaVu Sans Mono',consolas,'Courier New',monospace\">Absoulte Trajectory Error       <span style=\"font-weight: bold\">(</span>m<span style=\"font-weight: bold\">)</span>: <span style=\"color: #008080; text-decoration-color: #008080; font-weight: bold\">0.309</span>\n",
       "</pre>\n"
      ],
      "text/plain": [
       "Absoulte Trajectory Error       \u001b[1m(\u001b[0mm\u001b[1m)\u001b[0m: \u001b[1;36m0.309\u001b[0m\n"
      ]
     },
     "metadata": {},
     "output_type": "display_data"
    },
    {
     "data": {
      "text/html": [
       "<pre style=\"white-space:pre;overflow-x:auto;line-height:normal;font-family:Menlo,'DejaVu Sans Mono',consolas,'Courier New',monospace\"># Loop corrected:  <span style=\"color: #008080; text-decoration-color: #008080; font-weight: bold\">327</span>\n",
       "</pre>\n"
      ],
      "text/plain": [
       "# Loop corrected:  \u001b[1;36m327\u001b[0m\n"
      ]
     },
     "metadata": {},
     "output_type": "display_data"
    },
    {
     "data": {
      "text/markdown": [
       "# Experiment Results (Newer College dataset) \n",
       "|Metric|Value|\n",
       "|-:|:-|\n",
       "|Odometry ATE [%]|0.95|\n",
       "|Odometry ARE [deg/100m]|1.11|\n",
       "|SLAM RMSE [m]|0.37|\n"
      ]
     },
     "metadata": {},
     "output_type": "display_data"
    }
   ],
   "source": [
    "import pin_slam\n",
    "from eval.eval_traj_utils import get_metrics, mean_metrics\n",
    "import torch\n",
    "from IPython.display import display_markdown\n",
    "\n",
    "print('Device used:', torch.cuda.get_device_name(0))\n",
    "\n",
    "metrics_dicts = []\n",
    "seq_list = ['01', '02']\n",
    "for seq_str in seq_list:\n",
    "    print('Now evaluate sequence '+ seq_str)\n",
    "    seq_results = pin_slam.run_pin_slam('./config/lidar_slam/run_ncd.yaml', 'ncd', seq_str)\n",
    "    metrics_dict = get_metrics(seq_results)\n",
    "    metrics_dicts.append(metrics_dict)\n",
    "\n",
    "metric_mean = mean_metrics(metrics_dicts)\n",
    "table_results = f\"# Experiment Results (Newer College dataset) \\n|Metric|Value|\\n|-:|:-|\\n\"\n",
    "for metric, result in metric_mean.items():\n",
    "    table_results += f\"|{metric}|{result:.2f}|\\n\"\n",
    "display_markdown(table_results, raw=True)"
   ]
  }
 ],
 "metadata": {
  "interpreter": {
   "hash": "23ab7127a0bd204976f8870b5ba7b53bf3b662fb0566b25d6a446c21e6a7408b"
  },
  "kernelspec": {
   "display_name": "Python 3.8.17 ('pin')",
   "language": "python",
   "name": "python3"
  },
  "language_info": {
   "codemirror_mode": {
    "name": "ipython",
    "version": 3
   },
   "file_extension": ".py",
   "mimetype": "text/x-python",
   "name": "python",
   "nbconvert_exporter": "python",
   "pygments_lexer": "ipython3",
   "version": "3.8.19"
  },
  "orig_nbformat": 4
 },
 "nbformat": 4,
 "nbformat_minor": 2
}
