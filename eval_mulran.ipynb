{
 "cells": [
  {
   "cell_type": "markdown",
   "metadata": {},
   "source": [
    "# PIN-SLAM running on MulRan dataset\n",
    "The aim of this notebook is to serve as a reproducible entry point for the experiments outlined in the paper.\n",
    "\n",
    "To directly run this notebook without changing path, you need to put it in the parent directory of `eval`.\n",
    "\n",
    "Please download the dataset from [here](https://sites.google.com/view/mulran-pr/download) and use this [script](https://github.com/PRBonn/PIN_SLAM/blob/main/dataset/converter/mulran_to_pin_format.py) to generate the reference pose file. \n",
    "\n",
    "Note: the results are slightly different using different random seeds and different hardwares.\n",
    "\n"
   ]
  },
  {
   "cell_type": "code",
   "execution_count": 1,
   "metadata": {},
   "outputs": [
    {
     "name": "stdout",
     "output_type": "stream",
     "text": [
      "Jupyter environment detected. Enabling Open3D WebVisualizer.\n",
      "[Open3D INFO] WebRTC GUI backend enabled.\n",
      "[Open3D INFO] WebRTCWindowSystem: HTTP handshake server disabled.\n",
      "Device used: NVIDIA RTX A4000\n",
      "Now evaluate sequence kaist01\n"
     ]
    },
    {
     "name": "stderr",
     "output_type": "stream",
     "text": [
      "100%|██████████|8226/8226\n"
     ]
    },
    {
     "data": {
      "text/html": [
       "<pre style=\"white-space:pre;overflow-x:auto;line-height:normal;font-family:Menlo,'DejaVu Sans Mono',consolas,'Courier New',monospace\">Odometry evaluation:\n",
       "</pre>\n"
      ],
      "text/plain": [
       "Odometry evaluation:\n"
      ]
     },
     "metadata": {},
     "output_type": "display_data"
    },
    {
     "data": {
      "text/html": [
       "<pre style=\"white-space:pre;overflow-x:auto;line-height:normal;font-family:Menlo,'DejaVu Sans Mono',consolas,'Courier New',monospace\">Average Translation Error       <span style=\"font-weight: bold\">(</span>%<span style=\"font-weight: bold\">)</span>: <span style=\"color: #008080; text-decoration-color: #008080; font-weight: bold\">2.531</span>\n",
       "</pre>\n"
      ],
      "text/plain": [
       "Average Translation Error       \u001b[1m(\u001b[0m%\u001b[1m)\u001b[0m: \u001b[1;36m2.531\u001b[0m\n"
      ]
     },
     "metadata": {},
     "output_type": "display_data"
    },
    {
     "data": {
      "text/html": [
       "<pre style=\"white-space:pre;overflow-x:auto;line-height:normal;font-family:Menlo,'DejaVu Sans Mono',consolas,'Courier New',monospace\">Average Rotational Error <span style=\"font-weight: bold\">(</span>deg/100m<span style=\"font-weight: bold\">)</span>: <span style=\"color: #008080; text-decoration-color: #008080; font-weight: bold\">0.682</span>\n",
       "</pre>\n"
      ],
      "text/plain": [
       "Average Rotational Error \u001b[1m(\u001b[0mdeg/100m\u001b[1m)\u001b[0m: \u001b[1;36m0.682\u001b[0m\n"
      ]
     },
     "metadata": {},
     "output_type": "display_data"
    },
    {
     "data": {
      "text/html": [
       "<pre style=\"white-space:pre;overflow-x:auto;line-height:normal;font-family:Menlo,'DejaVu Sans Mono',consolas,'Courier New',monospace\">Absoulte Trajectory Error       <span style=\"font-weight: bold\">(</span>m<span style=\"font-weight: bold\">)</span>: <span style=\"color: #008080; text-decoration-color: #008080; font-weight: bold\">29.075</span>\n",
       "</pre>\n"
      ],
      "text/plain": [
       "Absoulte Trajectory Error       \u001b[1m(\u001b[0mm\u001b[1m)\u001b[0m: \u001b[1;36m29.075\u001b[0m\n"
      ]
     },
     "metadata": {},
     "output_type": "display_data"
    },
    {
     "data": {
      "text/html": [
       "<pre style=\"white-space:pre;overflow-x:auto;line-height:normal;font-family:Menlo,'DejaVu Sans Mono',consolas,'Courier New',monospace\">SLAM evaluation:\n",
       "</pre>\n"
      ],
      "text/plain": [
       "SLAM evaluation:\n"
      ]
     },
     "metadata": {},
     "output_type": "display_data"
    },
    {
     "data": {
      "text/html": [
       "<pre style=\"white-space:pre;overflow-x:auto;line-height:normal;font-family:Menlo,'DejaVu Sans Mono',consolas,'Courier New',monospace\">Average Translation Error       <span style=\"font-weight: bold\">(</span>%<span style=\"font-weight: bold\">)</span>: <span style=\"color: #008080; text-decoration-color: #008080; font-weight: bold\">1.933</span>\n",
       "</pre>\n"
      ],
      "text/plain": [
       "Average Translation Error       \u001b[1m(\u001b[0m%\u001b[1m)\u001b[0m: \u001b[1;36m1.933\u001b[0m\n"
      ]
     },
     "metadata": {},
     "output_type": "display_data"
    },
    {
     "data": {
      "text/html": [
       "<pre style=\"white-space:pre;overflow-x:auto;line-height:normal;font-family:Menlo,'DejaVu Sans Mono',consolas,'Courier New',monospace\">Average Rotational Error <span style=\"font-weight: bold\">(</span>deg/100m<span style=\"font-weight: bold\">)</span>: <span style=\"color: #008080; text-decoration-color: #008080; font-weight: bold\">0.613</span>\n",
       "</pre>\n"
      ],
      "text/plain": [
       "Average Rotational Error \u001b[1m(\u001b[0mdeg/100m\u001b[1m)\u001b[0m: \u001b[1;36m0.613\u001b[0m\n"
      ]
     },
     "metadata": {},
     "output_type": "display_data"
    },
    {
     "data": {
      "text/html": [
       "<pre style=\"white-space:pre;overflow-x:auto;line-height:normal;font-family:Menlo,'DejaVu Sans Mono',consolas,'Courier New',monospace\">Absoulte Trajectory Error       <span style=\"font-weight: bold\">(</span>m<span style=\"font-weight: bold\">)</span>: <span style=\"color: #008080; text-decoration-color: #008080; font-weight: bold\">2.253</span>\n",
       "</pre>\n"
      ],
      "text/plain": [
       "Absoulte Trajectory Error       \u001b[1m(\u001b[0mm\u001b[1m)\u001b[0m: \u001b[1;36m2.253\u001b[0m\n"
      ]
     },
     "metadata": {},
     "output_type": "display_data"
    },
    {
     "data": {
      "text/html": [
       "<pre style=\"white-space:pre;overflow-x:auto;line-height:normal;font-family:Menlo,'DejaVu Sans Mono',consolas,'Courier New',monospace\"># Loop corrected:  <span style=\"color: #008080; text-decoration-color: #008080; font-weight: bold\">81</span>\n",
       "</pre>\n"
      ],
      "text/plain": [
       "# Loop corrected:  \u001b[1;36m81\u001b[0m\n"
      ]
     },
     "metadata": {},
     "output_type": "display_data"
    },
    {
     "name": "stdout",
     "output_type": "stream",
     "text": [
      "Now evaluate sequence kaist02\n"
     ]
    },
    {
     "name": "stderr",
     "output_type": "stream",
     "text": [
      "100%|██████████|8941/8941\n"
     ]
    },
    {
     "data": {
      "text/html": [
       "<pre style=\"white-space:pre;overflow-x:auto;line-height:normal;font-family:Menlo,'DejaVu Sans Mono',consolas,'Courier New',monospace\">Odometry evaluation:\n",
       "</pre>\n"
      ],
      "text/plain": [
       "Odometry evaluation:\n"
      ]
     },
     "metadata": {},
     "output_type": "display_data"
    },
    {
     "data": {
      "text/html": [
       "<pre style=\"white-space:pre;overflow-x:auto;line-height:normal;font-family:Menlo,'DejaVu Sans Mono',consolas,'Courier New',monospace\">Average Translation Error       <span style=\"font-weight: bold\">(</span>%<span style=\"font-weight: bold\">)</span>: <span style=\"color: #008080; text-decoration-color: #008080; font-weight: bold\">2.491</span>\n",
       "</pre>\n"
      ],
      "text/plain": [
       "Average Translation Error       \u001b[1m(\u001b[0m%\u001b[1m)\u001b[0m: \u001b[1;36m2.491\u001b[0m\n"
      ]
     },
     "metadata": {},
     "output_type": "display_data"
    },
    {
     "data": {
      "text/html": [
       "<pre style=\"white-space:pre;overflow-x:auto;line-height:normal;font-family:Menlo,'DejaVu Sans Mono',consolas,'Courier New',monospace\">Average Rotational Error <span style=\"font-weight: bold\">(</span>deg/100m<span style=\"font-weight: bold\">)</span>: <span style=\"color: #008080; text-decoration-color: #008080; font-weight: bold\">0.705</span>\n",
       "</pre>\n"
      ],
      "text/plain": [
       "Average Rotational Error \u001b[1m(\u001b[0mdeg/100m\u001b[1m)\u001b[0m: \u001b[1;36m0.705\u001b[0m\n"
      ]
     },
     "metadata": {},
     "output_type": "display_data"
    },
    {
     "data": {
      "text/html": [
       "<pre style=\"white-space:pre;overflow-x:auto;line-height:normal;font-family:Menlo,'DejaVu Sans Mono',consolas,'Courier New',monospace\">Absoulte Trajectory Error       <span style=\"font-weight: bold\">(</span>m<span style=\"font-weight: bold\">)</span>: <span style=\"color: #008080; text-decoration-color: #008080; font-weight: bold\">24.743</span>\n",
       "</pre>\n"
      ],
      "text/plain": [
       "Absoulte Trajectory Error       \u001b[1m(\u001b[0mm\u001b[1m)\u001b[0m: \u001b[1;36m24.743\u001b[0m\n"
      ]
     },
     "metadata": {},
     "output_type": "display_data"
    },
    {
     "data": {
      "text/html": [
       "<pre style=\"white-space:pre;overflow-x:auto;line-height:normal;font-family:Menlo,'DejaVu Sans Mono',consolas,'Courier New',monospace\">SLAM evaluation:\n",
       "</pre>\n"
      ],
      "text/plain": [
       "SLAM evaluation:\n"
      ]
     },
     "metadata": {},
     "output_type": "display_data"
    },
    {
     "data": {
      "text/html": [
       "<pre style=\"white-space:pre;overflow-x:auto;line-height:normal;font-family:Menlo,'DejaVu Sans Mono',consolas,'Courier New',monospace\">Average Translation Error       <span style=\"font-weight: bold\">(</span>%<span style=\"font-weight: bold\">)</span>: <span style=\"color: #008080; text-decoration-color: #008080; font-weight: bold\">2.022</span>\n",
       "</pre>\n"
      ],
      "text/plain": [
       "Average Translation Error       \u001b[1m(\u001b[0m%\u001b[1m)\u001b[0m: \u001b[1;36m2.022\u001b[0m\n"
      ]
     },
     "metadata": {},
     "output_type": "display_data"
    },
    {
     "data": {
      "text/html": [
       "<pre style=\"white-space:pre;overflow-x:auto;line-height:normal;font-family:Menlo,'DejaVu Sans Mono',consolas,'Courier New',monospace\">Average Rotational Error <span style=\"font-weight: bold\">(</span>deg/100m<span style=\"font-weight: bold\">)</span>: <span style=\"color: #008080; text-decoration-color: #008080; font-weight: bold\">0.668</span>\n",
       "</pre>\n"
      ],
      "text/plain": [
       "Average Rotational Error \u001b[1m(\u001b[0mdeg/100m\u001b[1m)\u001b[0m: \u001b[1;36m0.668\u001b[0m\n"
      ]
     },
     "metadata": {},
     "output_type": "display_data"
    },
    {
     "data": {
      "text/html": [
       "<pre style=\"white-space:pre;overflow-x:auto;line-height:normal;font-family:Menlo,'DejaVu Sans Mono',consolas,'Courier New',monospace\">Absoulte Trajectory Error       <span style=\"font-weight: bold\">(</span>m<span style=\"font-weight: bold\">)</span>: <span style=\"color: #008080; text-decoration-color: #008080; font-weight: bold\">2.863</span>\n",
       "</pre>\n"
      ],
      "text/plain": [
       "Absoulte Trajectory Error       \u001b[1m(\u001b[0mm\u001b[1m)\u001b[0m: \u001b[1;36m2.863\u001b[0m\n"
      ]
     },
     "metadata": {},
     "output_type": "display_data"
    },
    {
     "data": {
      "text/html": [
       "<pre style=\"white-space:pre;overflow-x:auto;line-height:normal;font-family:Menlo,'DejaVu Sans Mono',consolas,'Courier New',monospace\"># Loop corrected:  <span style=\"color: #008080; text-decoration-color: #008080; font-weight: bold\">114</span>\n",
       "</pre>\n"
      ],
      "text/plain": [
       "# Loop corrected:  \u001b[1;36m114\u001b[0m\n"
      ]
     },
     "metadata": {},
     "output_type": "display_data"
    },
    {
     "name": "stdout",
     "output_type": "stream",
     "text": [
      "Now evaluate sequence kaist03\n"
     ]
    },
    {
     "name": "stderr",
     "output_type": "stream",
     "text": [
      "100%|██████████|8629/8629\n"
     ]
    },
    {
     "data": {
      "text/html": [
       "<pre style=\"white-space:pre;overflow-x:auto;line-height:normal;font-family:Menlo,'DejaVu Sans Mono',consolas,'Courier New',monospace\">Odometry evaluation:\n",
       "</pre>\n"
      ],
      "text/plain": [
       "Odometry evaluation:\n"
      ]
     },
     "metadata": {},
     "output_type": "display_data"
    },
    {
     "data": {
      "text/html": [
       "<pre style=\"white-space:pre;overflow-x:auto;line-height:normal;font-family:Menlo,'DejaVu Sans Mono',consolas,'Courier New',monospace\">Average Translation Error       <span style=\"font-weight: bold\">(</span>%<span style=\"font-weight: bold\">)</span>: <span style=\"color: #008080; text-decoration-color: #008080; font-weight: bold\">2.382</span>\n",
       "</pre>\n"
      ],
      "text/plain": [
       "Average Translation Error       \u001b[1m(\u001b[0m%\u001b[1m)\u001b[0m: \u001b[1;36m2.382\u001b[0m\n"
      ]
     },
     "metadata": {},
     "output_type": "display_data"
    },
    {
     "data": {
      "text/html": [
       "<pre style=\"white-space:pre;overflow-x:auto;line-height:normal;font-family:Menlo,'DejaVu Sans Mono',consolas,'Courier New',monospace\">Average Rotational Error <span style=\"font-weight: bold\">(</span>deg/100m<span style=\"font-weight: bold\">)</span>: <span style=\"color: #008080; text-decoration-color: #008080; font-weight: bold\">0.721</span>\n",
       "</pre>\n"
      ],
      "text/plain": [
       "Average Rotational Error \u001b[1m(\u001b[0mdeg/100m\u001b[1m)\u001b[0m: \u001b[1;36m0.721\u001b[0m\n"
      ]
     },
     "metadata": {},
     "output_type": "display_data"
    },
    {
     "data": {
      "text/html": [
       "<pre style=\"white-space:pre;overflow-x:auto;line-height:normal;font-family:Menlo,'DejaVu Sans Mono',consolas,'Courier New',monospace\">Absoulte Trajectory Error       <span style=\"font-weight: bold\">(</span>m<span style=\"font-weight: bold\">)</span>: <span style=\"color: #008080; text-decoration-color: #008080; font-weight: bold\">23.057</span>\n",
       "</pre>\n"
      ],
      "text/plain": [
       "Absoulte Trajectory Error       \u001b[1m(\u001b[0mm\u001b[1m)\u001b[0m: \u001b[1;36m23.057\u001b[0m\n"
      ]
     },
     "metadata": {},
     "output_type": "display_data"
    },
    {
     "data": {
      "text/html": [
       "<pre style=\"white-space:pre;overflow-x:auto;line-height:normal;font-family:Menlo,'DejaVu Sans Mono',consolas,'Courier New',monospace\">SLAM evaluation:\n",
       "</pre>\n"
      ],
      "text/plain": [
       "SLAM evaluation:\n"
      ]
     },
     "metadata": {},
     "output_type": "display_data"
    },
    {
     "data": {
      "text/html": [
       "<pre style=\"white-space:pre;overflow-x:auto;line-height:normal;font-family:Menlo,'DejaVu Sans Mono',consolas,'Courier New',monospace\">Average Translation Error       <span style=\"font-weight: bold\">(</span>%<span style=\"font-weight: bold\">)</span>: <span style=\"color: #008080; text-decoration-color: #008080; font-weight: bold\">2.162</span>\n",
       "</pre>\n"
      ],
      "text/plain": [
       "Average Translation Error       \u001b[1m(\u001b[0m%\u001b[1m)\u001b[0m: \u001b[1;36m2.162\u001b[0m\n"
      ]
     },
     "metadata": {},
     "output_type": "display_data"
    },
    {
     "data": {
      "text/html": [
       "<pre style=\"white-space:pre;overflow-x:auto;line-height:normal;font-family:Menlo,'DejaVu Sans Mono',consolas,'Courier New',monospace\">Average Rotational Error <span style=\"font-weight: bold\">(</span>deg/100m<span style=\"font-weight: bold\">)</span>: <span style=\"color: #008080; text-decoration-color: #008080; font-weight: bold\">0.693</span>\n",
       "</pre>\n"
      ],
      "text/plain": [
       "Average Rotational Error \u001b[1m(\u001b[0mdeg/100m\u001b[1m)\u001b[0m: \u001b[1;36m0.693\u001b[0m\n"
      ]
     },
     "metadata": {},
     "output_type": "display_data"
    },
    {
     "data": {
      "text/html": [
       "<pre style=\"white-space:pre;overflow-x:auto;line-height:normal;font-family:Menlo,'DejaVu Sans Mono',consolas,'Courier New',monospace\">Absoulte Trajectory Error       <span style=\"font-weight: bold\">(</span>m<span style=\"font-weight: bold\">)</span>: <span style=\"color: #008080; text-decoration-color: #008080; font-weight: bold\">2.146</span>\n",
       "</pre>\n"
      ],
      "text/plain": [
       "Absoulte Trajectory Error       \u001b[1m(\u001b[0mm\u001b[1m)\u001b[0m: \u001b[1;36m2.146\u001b[0m\n"
      ]
     },
     "metadata": {},
     "output_type": "display_data"
    },
    {
     "data": {
      "text/html": [
       "<pre style=\"white-space:pre;overflow-x:auto;line-height:normal;font-family:Menlo,'DejaVu Sans Mono',consolas,'Courier New',monospace\"># Loop corrected:  <span style=\"color: #008080; text-decoration-color: #008080; font-weight: bold\">128</span>\n",
       "</pre>\n"
      ],
      "text/plain": [
       "# Loop corrected:  \u001b[1;36m128\u001b[0m\n"
      ]
     },
     "metadata": {},
     "output_type": "display_data"
    },
    {
     "name": "stdout",
     "output_type": "stream",
     "text": [
      "Now evaluate sequence dcc01\n"
     ]
    },
    {
     "name": "stderr",
     "output_type": "stream",
     "text": [
      "100%|██████████|5542/5542\n"
     ]
    },
    {
     "data": {
      "text/html": [
       "<pre style=\"white-space:pre;overflow-x:auto;line-height:normal;font-family:Menlo,'DejaVu Sans Mono',consolas,'Courier New',monospace\">Odometry evaluation:\n",
       "</pre>\n"
      ],
      "text/plain": [
       "Odometry evaluation:\n"
      ]
     },
     "metadata": {},
     "output_type": "display_data"
    },
    {
     "data": {
      "text/html": [
       "<pre style=\"white-space:pre;overflow-x:auto;line-height:normal;font-family:Menlo,'DejaVu Sans Mono',consolas,'Courier New',monospace\">Average Translation Error       <span style=\"font-weight: bold\">(</span>%<span style=\"font-weight: bold\">)</span>: <span style=\"color: #008080; text-decoration-color: #008080; font-weight: bold\">2.751</span>\n",
       "</pre>\n"
      ],
      "text/plain": [
       "Average Translation Error       \u001b[1m(\u001b[0m%\u001b[1m)\u001b[0m: \u001b[1;36m2.751\u001b[0m\n"
      ]
     },
     "metadata": {},
     "output_type": "display_data"
    },
    {
     "data": {
      "text/html": [
       "<pre style=\"white-space:pre;overflow-x:auto;line-height:normal;font-family:Menlo,'DejaVu Sans Mono',consolas,'Courier New',monospace\">Average Rotational Error <span style=\"font-weight: bold\">(</span>deg/100m<span style=\"font-weight: bold\">)</span>: <span style=\"color: #008080; text-decoration-color: #008080; font-weight: bold\">0.723</span>\n",
       "</pre>\n"
      ],
      "text/plain": [
       "Average Rotational Error \u001b[1m(\u001b[0mdeg/100m\u001b[1m)\u001b[0m: \u001b[1;36m0.723\u001b[0m\n"
      ]
     },
     "metadata": {},
     "output_type": "display_data"
    },
    {
     "data": {
      "text/html": [
       "<pre style=\"white-space:pre;overflow-x:auto;line-height:normal;font-family:Menlo,'DejaVu Sans Mono',consolas,'Courier New',monospace\">Absoulte Trajectory Error       <span style=\"font-weight: bold\">(</span>m<span style=\"font-weight: bold\">)</span>: <span style=\"color: #008080; text-decoration-color: #008080; font-weight: bold\">22.068</span>\n",
       "</pre>\n"
      ],
      "text/plain": [
       "Absoulte Trajectory Error       \u001b[1m(\u001b[0mm\u001b[1m)\u001b[0m: \u001b[1;36m22.068\u001b[0m\n"
      ]
     },
     "metadata": {},
     "output_type": "display_data"
    },
    {
     "data": {
      "text/html": [
       "<pre style=\"white-space:pre;overflow-x:auto;line-height:normal;font-family:Menlo,'DejaVu Sans Mono',consolas,'Courier New',monospace\">SLAM evaluation:\n",
       "</pre>\n"
      ],
      "text/plain": [
       "SLAM evaluation:\n"
      ]
     },
     "metadata": {},
     "output_type": "display_data"
    },
    {
     "data": {
      "text/html": [
       "<pre style=\"white-space:pre;overflow-x:auto;line-height:normal;font-family:Menlo,'DejaVu Sans Mono',consolas,'Courier New',monospace\">Average Translation Error       <span style=\"font-weight: bold\">(</span>%<span style=\"font-weight: bold\">)</span>: <span style=\"color: #008080; text-decoration-color: #008080; font-weight: bold\">2.503</span>\n",
       "</pre>\n"
      ],
      "text/plain": [
       "Average Translation Error       \u001b[1m(\u001b[0m%\u001b[1m)\u001b[0m: \u001b[1;36m2.503\u001b[0m\n"
      ]
     },
     "metadata": {},
     "output_type": "display_data"
    },
    {
     "data": {
      "text/html": [
       "<pre style=\"white-space:pre;overflow-x:auto;line-height:normal;font-family:Menlo,'DejaVu Sans Mono',consolas,'Courier New',monospace\">Average Rotational Error <span style=\"font-weight: bold\">(</span>deg/100m<span style=\"font-weight: bold\">)</span>: <span style=\"color: #008080; text-decoration-color: #008080; font-weight: bold\">0.654</span>\n",
       "</pre>\n"
      ],
      "text/plain": [
       "Average Rotational Error \u001b[1m(\u001b[0mdeg/100m\u001b[1m)\u001b[0m: \u001b[1;36m0.654\u001b[0m\n"
      ]
     },
     "metadata": {},
     "output_type": "display_data"
    },
    {
     "data": {
      "text/html": [
       "<pre style=\"white-space:pre;overflow-x:auto;line-height:normal;font-family:Menlo,'DejaVu Sans Mono',consolas,'Courier New',monospace\">Absoulte Trajectory Error       <span style=\"font-weight: bold\">(</span>m<span style=\"font-weight: bold\">)</span>: <span style=\"color: #008080; text-decoration-color: #008080; font-weight: bold\">5.253</span>\n",
       "</pre>\n"
      ],
      "text/plain": [
       "Absoulte Trajectory Error       \u001b[1m(\u001b[0mm\u001b[1m)\u001b[0m: \u001b[1;36m5.253\u001b[0m\n"
      ]
     },
     "metadata": {},
     "output_type": "display_data"
    },
    {
     "data": {
      "text/html": [
       "<pre style=\"white-space:pre;overflow-x:auto;line-height:normal;font-family:Menlo,'DejaVu Sans Mono',consolas,'Courier New',monospace\"># Loop corrected:  <span style=\"color: #008080; text-decoration-color: #008080; font-weight: bold\">67</span>\n",
       "</pre>\n"
      ],
      "text/plain": [
       "# Loop corrected:  \u001b[1;36m67\u001b[0m\n"
      ]
     },
     "metadata": {},
     "output_type": "display_data"
    },
    {
     "name": "stdout",
     "output_type": "stream",
     "text": [
      "Now evaluate sequence dcc02\n"
     ]
    },
    {
     "name": "stderr",
     "output_type": "stream",
     "text": [
      "100%|██████████|7561/7561\n"
     ]
    },
    {
     "data": {
      "text/html": [
       "<pre style=\"white-space:pre;overflow-x:auto;line-height:normal;font-family:Menlo,'DejaVu Sans Mono',consolas,'Courier New',monospace\">Odometry evaluation:\n",
       "</pre>\n"
      ],
      "text/plain": [
       "Odometry evaluation:\n"
      ]
     },
     "metadata": {},
     "output_type": "display_data"
    },
    {
     "data": {
      "text/html": [
       "<pre style=\"white-space:pre;overflow-x:auto;line-height:normal;font-family:Menlo,'DejaVu Sans Mono',consolas,'Courier New',monospace\">Average Translation Error       <span style=\"font-weight: bold\">(</span>%<span style=\"font-weight: bold\">)</span>: <span style=\"color: #008080; text-decoration-color: #008080; font-weight: bold\">2.341</span>\n",
       "</pre>\n"
      ],
      "text/plain": [
       "Average Translation Error       \u001b[1m(\u001b[0m%\u001b[1m)\u001b[0m: \u001b[1;36m2.341\u001b[0m\n"
      ]
     },
     "metadata": {},
     "output_type": "display_data"
    },
    {
     "data": {
      "text/html": [
       "<pre style=\"white-space:pre;overflow-x:auto;line-height:normal;font-family:Menlo,'DejaVu Sans Mono',consolas,'Courier New',monospace\">Average Rotational Error <span style=\"font-weight: bold\">(</span>deg/100m<span style=\"font-weight: bold\">)</span>: <span style=\"color: #008080; text-decoration-color: #008080; font-weight: bold\">0.642</span>\n",
       "</pre>\n"
      ],
      "text/plain": [
       "Average Rotational Error \u001b[1m(\u001b[0mdeg/100m\u001b[1m)\u001b[0m: \u001b[1;36m0.642\u001b[0m\n"
      ]
     },
     "metadata": {},
     "output_type": "display_data"
    },
    {
     "data": {
      "text/html": [
       "<pre style=\"white-space:pre;overflow-x:auto;line-height:normal;font-family:Menlo,'DejaVu Sans Mono',consolas,'Courier New',monospace\">Absoulte Trajectory Error       <span style=\"font-weight: bold\">(</span>m<span style=\"font-weight: bold\">)</span>: <span style=\"color: #008080; text-decoration-color: #008080; font-weight: bold\">12.943</span>\n",
       "</pre>\n"
      ],
      "text/plain": [
       "Absoulte Trajectory Error       \u001b[1m(\u001b[0mm\u001b[1m)\u001b[0m: \u001b[1;36m12.943\u001b[0m\n"
      ]
     },
     "metadata": {},
     "output_type": "display_data"
    },
    {
     "data": {
      "text/html": [
       "<pre style=\"white-space:pre;overflow-x:auto;line-height:normal;font-family:Menlo,'DejaVu Sans Mono',consolas,'Courier New',monospace\">SLAM evaluation:\n",
       "</pre>\n"
      ],
      "text/plain": [
       "SLAM evaluation:\n"
      ]
     },
     "metadata": {},
     "output_type": "display_data"
    },
    {
     "data": {
      "text/html": [
       "<pre style=\"white-space:pre;overflow-x:auto;line-height:normal;font-family:Menlo,'DejaVu Sans Mono',consolas,'Courier New',monospace\">Average Translation Error       <span style=\"font-weight: bold\">(</span>%<span style=\"font-weight: bold\">)</span>: <span style=\"color: #008080; text-decoration-color: #008080; font-weight: bold\">2.099</span>\n",
       "</pre>\n"
      ],
      "text/plain": [
       "Average Translation Error       \u001b[1m(\u001b[0m%\u001b[1m)\u001b[0m: \u001b[1;36m2.099\u001b[0m\n"
      ]
     },
     "metadata": {},
     "output_type": "display_data"
    },
    {
     "data": {
      "text/html": [
       "<pre style=\"white-space:pre;overflow-x:auto;line-height:normal;font-family:Menlo,'DejaVu Sans Mono',consolas,'Courier New',monospace\">Average Rotational Error <span style=\"font-weight: bold\">(</span>deg/100m<span style=\"font-weight: bold\">)</span>: <span style=\"color: #008080; text-decoration-color: #008080; font-weight: bold\">0.572</span>\n",
       "</pre>\n"
      ],
      "text/plain": [
       "Average Rotational Error \u001b[1m(\u001b[0mdeg/100m\u001b[1m)\u001b[0m: \u001b[1;36m0.572\u001b[0m\n"
      ]
     },
     "metadata": {},
     "output_type": "display_data"
    },
    {
     "data": {
      "text/html": [
       "<pre style=\"white-space:pre;overflow-x:auto;line-height:normal;font-family:Menlo,'DejaVu Sans Mono',consolas,'Courier New',monospace\">Absoulte Trajectory Error       <span style=\"font-weight: bold\">(</span>m<span style=\"font-weight: bold\">)</span>: <span style=\"color: #008080; text-decoration-color: #008080; font-weight: bold\">2.825</span>\n",
       "</pre>\n"
      ],
      "text/plain": [
       "Absoulte Trajectory Error       \u001b[1m(\u001b[0mm\u001b[1m)\u001b[0m: \u001b[1;36m2.825\u001b[0m\n"
      ]
     },
     "metadata": {},
     "output_type": "display_data"
    },
    {
     "data": {
      "text/html": [
       "<pre style=\"white-space:pre;overflow-x:auto;line-height:normal;font-family:Menlo,'DejaVu Sans Mono',consolas,'Courier New',monospace\"># Loop corrected:  <span style=\"color: #008080; text-decoration-color: #008080; font-weight: bold\">57</span>\n",
       "</pre>\n"
      ],
      "text/plain": [
       "# Loop corrected:  \u001b[1;36m57\u001b[0m\n"
      ]
     },
     "metadata": {},
     "output_type": "display_data"
    },
    {
     "name": "stdout",
     "output_type": "stream",
     "text": [
      "Now evaluate sequence dcc03\n"
     ]
    },
    {
     "name": "stderr",
     "output_type": "stream",
     "text": [
      "100%|█████████▉|7478/7479"
     ]
    },
    {
     "data": {
      "text/html": [
       "<pre style=\"white-space:pre;overflow-x:auto;line-height:normal;font-family:Menlo,'DejaVu Sans Mono',consolas,'Courier New',monospace\"><span style=\"color: #800000; text-decoration-color: #800000; font-weight: bold\">Not enough input point cloud, skip this frame</span>\n",
       "</pre>\n"
      ],
      "text/plain": [
       "\u001b[1;31mNot enough input point cloud, skip this frame\u001b[0m\n"
      ]
     },
     "metadata": {},
     "output_type": "display_data"
    },
    {
     "name": "stderr",
     "output_type": "stream",
     "text": [
      "100%|██████████|7479/7479\n"
     ]
    },
    {
     "data": {
      "text/html": [
       "<pre style=\"white-space:pre;overflow-x:auto;line-height:normal;font-family:Menlo,'DejaVu Sans Mono',consolas,'Courier New',monospace\">Odometry evaluation:\n",
       "</pre>\n"
      ],
      "text/plain": [
       "Odometry evaluation:\n"
      ]
     },
     "metadata": {},
     "output_type": "display_data"
    },
    {
     "data": {
      "text/html": [
       "<pre style=\"white-space:pre;overflow-x:auto;line-height:normal;font-family:Menlo,'DejaVu Sans Mono',consolas,'Courier New',monospace\">Average Translation Error       <span style=\"font-weight: bold\">(</span>%<span style=\"font-weight: bold\">)</span>: <span style=\"color: #008080; text-decoration-color: #008080; font-weight: bold\">2.454</span>\n",
       "</pre>\n"
      ],
      "text/plain": [
       "Average Translation Error       \u001b[1m(\u001b[0m%\u001b[1m)\u001b[0m: \u001b[1;36m2.454\u001b[0m\n"
      ]
     },
     "metadata": {},
     "output_type": "display_data"
    },
    {
     "data": {
      "text/html": [
       "<pre style=\"white-space:pre;overflow-x:auto;line-height:normal;font-family:Menlo,'DejaVu Sans Mono',consolas,'Courier New',monospace\">Average Rotational Error <span style=\"font-weight: bold\">(</span>deg/100m<span style=\"font-weight: bold\">)</span>: <span style=\"color: #008080; text-decoration-color: #008080; font-weight: bold\">0.793</span>\n",
       "</pre>\n"
      ],
      "text/plain": [
       "Average Rotational Error \u001b[1m(\u001b[0mdeg/100m\u001b[1m)\u001b[0m: \u001b[1;36m0.793\u001b[0m\n"
      ]
     },
     "metadata": {},
     "output_type": "display_data"
    },
    {
     "data": {
      "text/html": [
       "<pre style=\"white-space:pre;overflow-x:auto;line-height:normal;font-family:Menlo,'DejaVu Sans Mono',consolas,'Courier New',monospace\">Absoulte Trajectory Error       <span style=\"font-weight: bold\">(</span>m<span style=\"font-weight: bold\">)</span>: <span style=\"color: #008080; text-decoration-color: #008080; font-weight: bold\">23.417</span>\n",
       "</pre>\n"
      ],
      "text/plain": [
       "Absoulte Trajectory Error       \u001b[1m(\u001b[0mm\u001b[1m)\u001b[0m: \u001b[1;36m23.417\u001b[0m\n"
      ]
     },
     "metadata": {},
     "output_type": "display_data"
    },
    {
     "data": {
      "text/html": [
       "<pre style=\"white-space:pre;overflow-x:auto;line-height:normal;font-family:Menlo,'DejaVu Sans Mono',consolas,'Courier New',monospace\">SLAM evaluation:\n",
       "</pre>\n"
      ],
      "text/plain": [
       "SLAM evaluation:\n"
      ]
     },
     "metadata": {},
     "output_type": "display_data"
    },
    {
     "data": {
      "text/html": [
       "<pre style=\"white-space:pre;overflow-x:auto;line-height:normal;font-family:Menlo,'DejaVu Sans Mono',consolas,'Courier New',monospace\">Average Translation Error       <span style=\"font-weight: bold\">(</span>%<span style=\"font-weight: bold\">)</span>: <span style=\"color: #008080; text-decoration-color: #008080; font-weight: bold\">2.110</span>\n",
       "</pre>\n"
      ],
      "text/plain": [
       "Average Translation Error       \u001b[1m(\u001b[0m%\u001b[1m)\u001b[0m: \u001b[1;36m2.110\u001b[0m\n"
      ]
     },
     "metadata": {},
     "output_type": "display_data"
    },
    {
     "data": {
      "text/html": [
       "<pre style=\"white-space:pre;overflow-x:auto;line-height:normal;font-family:Menlo,'DejaVu Sans Mono',consolas,'Courier New',monospace\">Average Rotational Error <span style=\"font-weight: bold\">(</span>deg/100m<span style=\"font-weight: bold\">)</span>: <span style=\"color: #008080; text-decoration-color: #008080; font-weight: bold\">0.692</span>\n",
       "</pre>\n"
      ],
      "text/plain": [
       "Average Rotational Error \u001b[1m(\u001b[0mdeg/100m\u001b[1m)\u001b[0m: \u001b[1;36m0.692\u001b[0m\n"
      ]
     },
     "metadata": {},
     "output_type": "display_data"
    },
    {
     "data": {
      "text/html": [
       "<pre style=\"white-space:pre;overflow-x:auto;line-height:normal;font-family:Menlo,'DejaVu Sans Mono',consolas,'Courier New',monospace\">Absoulte Trajectory Error       <span style=\"font-weight: bold\">(</span>m<span style=\"font-weight: bold\">)</span>: <span style=\"color: #008080; text-decoration-color: #008080; font-weight: bold\">2.653</span>\n",
       "</pre>\n"
      ],
      "text/plain": [
       "Absoulte Trajectory Error       \u001b[1m(\u001b[0mm\u001b[1m)\u001b[0m: \u001b[1;36m2.653\u001b[0m\n"
      ]
     },
     "metadata": {},
     "output_type": "display_data"
    },
    {
     "data": {
      "text/html": [
       "<pre style=\"white-space:pre;overflow-x:auto;line-height:normal;font-family:Menlo,'DejaVu Sans Mono',consolas,'Courier New',monospace\"># Loop corrected:  <span style=\"color: #008080; text-decoration-color: #008080; font-weight: bold\">77</span>\n",
       "</pre>\n"
      ],
      "text/plain": [
       "# Loop corrected:  \u001b[1;36m77\u001b[0m\n"
      ]
     },
     "metadata": {},
     "output_type": "display_data"
    },
    {
     "name": "stdout",
     "output_type": "stream",
     "text": [
      "Now evaluate sequence riverside01\n"
     ]
    },
    {
     "name": "stderr",
     "output_type": "stream",
     "text": [
      "100%|██████████|5537/5537\n"
     ]
    },
    {
     "data": {
      "text/html": [
       "<pre style=\"white-space:pre;overflow-x:auto;line-height:normal;font-family:Menlo,'DejaVu Sans Mono',consolas,'Courier New',monospace\">Odometry evaluation:\n",
       "</pre>\n"
      ],
      "text/plain": [
       "Odometry evaluation:\n"
      ]
     },
     "metadata": {},
     "output_type": "display_data"
    },
    {
     "data": {
      "text/html": [
       "<pre style=\"white-space:pre;overflow-x:auto;line-height:normal;font-family:Menlo,'DejaVu Sans Mono',consolas,'Courier New',monospace\">Average Translation Error       <span style=\"font-weight: bold\">(</span>%<span style=\"font-weight: bold\">)</span>: <span style=\"color: #008080; text-decoration-color: #008080; font-weight: bold\">2.589</span>\n",
       "</pre>\n"
      ],
      "text/plain": [
       "Average Translation Error       \u001b[1m(\u001b[0m%\u001b[1m)\u001b[0m: \u001b[1;36m2.589\u001b[0m\n"
      ]
     },
     "metadata": {},
     "output_type": "display_data"
    },
    {
     "data": {
      "text/html": [
       "<pre style=\"white-space:pre;overflow-x:auto;line-height:normal;font-family:Menlo,'DejaVu Sans Mono',consolas,'Courier New',monospace\">Average Rotational Error <span style=\"font-weight: bold\">(</span>deg/100m<span style=\"font-weight: bold\">)</span>: <span style=\"color: #008080; text-decoration-color: #008080; font-weight: bold\">0.858</span>\n",
       "</pre>\n"
      ],
      "text/plain": [
       "Average Rotational Error \u001b[1m(\u001b[0mdeg/100m\u001b[1m)\u001b[0m: \u001b[1;36m0.858\u001b[0m\n"
      ]
     },
     "metadata": {},
     "output_type": "display_data"
    },
    {
     "data": {
      "text/html": [
       "<pre style=\"white-space:pre;overflow-x:auto;line-height:normal;font-family:Menlo,'DejaVu Sans Mono',consolas,'Courier New',monospace\">Absoulte Trajectory Error       <span style=\"font-weight: bold\">(</span>m<span style=\"font-weight: bold\">)</span>: <span style=\"color: #008080; text-decoration-color: #008080; font-weight: bold\">45.813</span>\n",
       "</pre>\n"
      ],
      "text/plain": [
       "Absoulte Trajectory Error       \u001b[1m(\u001b[0mm\u001b[1m)\u001b[0m: \u001b[1;36m45.813\u001b[0m\n"
      ]
     },
     "metadata": {},
     "output_type": "display_data"
    },
    {
     "data": {
      "text/html": [
       "<pre style=\"white-space:pre;overflow-x:auto;line-height:normal;font-family:Menlo,'DejaVu Sans Mono',consolas,'Courier New',monospace\">SLAM evaluation:\n",
       "</pre>\n"
      ],
      "text/plain": [
       "SLAM evaluation:\n"
      ]
     },
     "metadata": {},
     "output_type": "display_data"
    },
    {
     "data": {
      "text/html": [
       "<pre style=\"white-space:pre;overflow-x:auto;line-height:normal;font-family:Menlo,'DejaVu Sans Mono',consolas,'Courier New',monospace\">Average Translation Error       <span style=\"font-weight: bold\">(</span>%<span style=\"font-weight: bold\">)</span>: <span style=\"color: #008080; text-decoration-color: #008080; font-weight: bold\">2.188</span>\n",
       "</pre>\n"
      ],
      "text/plain": [
       "Average Translation Error       \u001b[1m(\u001b[0m%\u001b[1m)\u001b[0m: \u001b[1;36m2.188\u001b[0m\n"
      ]
     },
     "metadata": {},
     "output_type": "display_data"
    },
    {
     "data": {
      "text/html": [
       "<pre style=\"white-space:pre;overflow-x:auto;line-height:normal;font-family:Menlo,'DejaVu Sans Mono',consolas,'Courier New',monospace\">Average Rotational Error <span style=\"font-weight: bold\">(</span>deg/100m<span style=\"font-weight: bold\">)</span>: <span style=\"color: #008080; text-decoration-color: #008080; font-weight: bold\">0.865</span>\n",
       "</pre>\n"
      ],
      "text/plain": [
       "Average Rotational Error \u001b[1m(\u001b[0mdeg/100m\u001b[1m)\u001b[0m: \u001b[1;36m0.865\u001b[0m\n"
      ]
     },
     "metadata": {},
     "output_type": "display_data"
    },
    {
     "data": {
      "text/html": [
       "<pre style=\"white-space:pre;overflow-x:auto;line-height:normal;font-family:Menlo,'DejaVu Sans Mono',consolas,'Courier New',monospace\">Absoulte Trajectory Error       <span style=\"font-weight: bold\">(</span>m<span style=\"font-weight: bold\">)</span>: <span style=\"color: #008080; text-decoration-color: #008080; font-weight: bold\">8.696</span>\n",
       "</pre>\n"
      ],
      "text/plain": [
       "Absoulte Trajectory Error       \u001b[1m(\u001b[0mm\u001b[1m)\u001b[0m: \u001b[1;36m8.696\u001b[0m\n"
      ]
     },
     "metadata": {},
     "output_type": "display_data"
    },
    {
     "data": {
      "text/html": [
       "<pre style=\"white-space:pre;overflow-x:auto;line-height:normal;font-family:Menlo,'DejaVu Sans Mono',consolas,'Courier New',monospace\"># Loop corrected:  <span style=\"color: #008080; text-decoration-color: #008080; font-weight: bold\">70</span>\n",
       "</pre>\n"
      ],
      "text/plain": [
       "# Loop corrected:  \u001b[1;36m70\u001b[0m\n"
      ]
     },
     "metadata": {},
     "output_type": "display_data"
    },
    {
     "name": "stdout",
     "output_type": "stream",
     "text": [
      "Now evaluate sequence riverside02\n"
     ]
    },
    {
     "name": "stderr",
     "output_type": "stream",
     "text": [
      "100%|██████████|8157/8157\n"
     ]
    },
    {
     "data": {
      "text/html": [
       "<pre style=\"white-space:pre;overflow-x:auto;line-height:normal;font-family:Menlo,'DejaVu Sans Mono',consolas,'Courier New',monospace\">Odometry evaluation:\n",
       "</pre>\n"
      ],
      "text/plain": [
       "Odometry evaluation:\n"
      ]
     },
     "metadata": {},
     "output_type": "display_data"
    },
    {
     "data": {
      "text/html": [
       "<pre style=\"white-space:pre;overflow-x:auto;line-height:normal;font-family:Menlo,'DejaVu Sans Mono',consolas,'Courier New',monospace\">Average Translation Error       <span style=\"font-weight: bold\">(</span>%<span style=\"font-weight: bold\">)</span>: <span style=\"color: #008080; text-decoration-color: #008080; font-weight: bold\">2.750</span>\n",
       "</pre>\n"
      ],
      "text/plain": [
       "Average Translation Error       \u001b[1m(\u001b[0m%\u001b[1m)\u001b[0m: \u001b[1;36m2.750\u001b[0m\n"
      ]
     },
     "metadata": {},
     "output_type": "display_data"
    },
    {
     "data": {
      "text/html": [
       "<pre style=\"white-space:pre;overflow-x:auto;line-height:normal;font-family:Menlo,'DejaVu Sans Mono',consolas,'Courier New',monospace\">Average Rotational Error <span style=\"font-weight: bold\">(</span>deg/100m<span style=\"font-weight: bold\">)</span>: <span style=\"color: #008080; text-decoration-color: #008080; font-weight: bold\">0.780</span>\n",
       "</pre>\n"
      ],
      "text/plain": [
       "Average Rotational Error \u001b[1m(\u001b[0mdeg/100m\u001b[1m)\u001b[0m: \u001b[1;36m0.780\u001b[0m\n"
      ]
     },
     "metadata": {},
     "output_type": "display_data"
    },
    {
     "data": {
      "text/html": [
       "<pre style=\"white-space:pre;overflow-x:auto;line-height:normal;font-family:Menlo,'DejaVu Sans Mono',consolas,'Courier New',monospace\">Absoulte Trajectory Error       <span style=\"font-weight: bold\">(</span>m<span style=\"font-weight: bold\">)</span>: <span style=\"color: #008080; text-decoration-color: #008080; font-weight: bold\">54.410</span>\n",
       "</pre>\n"
      ],
      "text/plain": [
       "Absoulte Trajectory Error       \u001b[1m(\u001b[0mm\u001b[1m)\u001b[0m: \u001b[1;36m54.410\u001b[0m\n"
      ]
     },
     "metadata": {},
     "output_type": "display_data"
    },
    {
     "data": {
      "text/html": [
       "<pre style=\"white-space:pre;overflow-x:auto;line-height:normal;font-family:Menlo,'DejaVu Sans Mono',consolas,'Courier New',monospace\">SLAM evaluation:\n",
       "</pre>\n"
      ],
      "text/plain": [
       "SLAM evaluation:\n"
      ]
     },
     "metadata": {},
     "output_type": "display_data"
    },
    {
     "data": {
      "text/html": [
       "<pre style=\"white-space:pre;overflow-x:auto;line-height:normal;font-family:Menlo,'DejaVu Sans Mono',consolas,'Courier New',monospace\">Average Translation Error       <span style=\"font-weight: bold\">(</span>%<span style=\"font-weight: bold\">)</span>: <span style=\"color: #008080; text-decoration-color: #008080; font-weight: bold\">2.450</span>\n",
       "</pre>\n"
      ],
      "text/plain": [
       "Average Translation Error       \u001b[1m(\u001b[0m%\u001b[1m)\u001b[0m: \u001b[1;36m2.450\u001b[0m\n"
      ]
     },
     "metadata": {},
     "output_type": "display_data"
    },
    {
     "data": {
      "text/html": [
       "<pre style=\"white-space:pre;overflow-x:auto;line-height:normal;font-family:Menlo,'DejaVu Sans Mono',consolas,'Courier New',monospace\">Average Rotational Error <span style=\"font-weight: bold\">(</span>deg/100m<span style=\"font-weight: bold\">)</span>: <span style=\"color: #008080; text-decoration-color: #008080; font-weight: bold\">0.787</span>\n",
       "</pre>\n"
      ],
      "text/plain": [
       "Average Rotational Error \u001b[1m(\u001b[0mdeg/100m\u001b[1m)\u001b[0m: \u001b[1;36m0.787\u001b[0m\n"
      ]
     },
     "metadata": {},
     "output_type": "display_data"
    },
    {
     "data": {
      "text/html": [
       "<pre style=\"white-space:pre;overflow-x:auto;line-height:normal;font-family:Menlo,'DejaVu Sans Mono',consolas,'Courier New',monospace\">Absoulte Trajectory Error       <span style=\"font-weight: bold\">(</span>m<span style=\"font-weight: bold\">)</span>: <span style=\"color: #008080; text-decoration-color: #008080; font-weight: bold\">7.942</span>\n",
       "</pre>\n"
      ],
      "text/plain": [
       "Absoulte Trajectory Error       \u001b[1m(\u001b[0mm\u001b[1m)\u001b[0m: \u001b[1;36m7.942\u001b[0m\n"
      ]
     },
     "metadata": {},
     "output_type": "display_data"
    },
    {
     "data": {
      "text/html": [
       "<pre style=\"white-space:pre;overflow-x:auto;line-height:normal;font-family:Menlo,'DejaVu Sans Mono',consolas,'Courier New',monospace\"># Loop corrected:  <span style=\"color: #008080; text-decoration-color: #008080; font-weight: bold\">68</span>\n",
       "</pre>\n"
      ],
      "text/plain": [
       "# Loop corrected:  \u001b[1;36m68\u001b[0m\n"
      ]
     },
     "metadata": {},
     "output_type": "display_data"
    },
    {
     "name": "stdout",
     "output_type": "stream",
     "text": [
      "Now evaluate sequence riverside03\n"
     ]
    },
    {
     "name": "stderr",
     "output_type": "stream",
     "text": [
      "100%|██████████|10476/10476\n"
     ]
    },
    {
     "data": {
      "text/html": [
       "<pre style=\"white-space:pre;overflow-x:auto;line-height:normal;font-family:Menlo,'DejaVu Sans Mono',consolas,'Courier New',monospace\">Odometry evaluation:\n",
       "</pre>\n"
      ],
      "text/plain": [
       "Odometry evaluation:\n"
      ]
     },
     "metadata": {},
     "output_type": "display_data"
    },
    {
     "data": {
      "text/html": [
       "<pre style=\"white-space:pre;overflow-x:auto;line-height:normal;font-family:Menlo,'DejaVu Sans Mono',consolas,'Courier New',monospace\">Average Translation Error       <span style=\"font-weight: bold\">(</span>%<span style=\"font-weight: bold\">)</span>: <span style=\"color: #008080; text-decoration-color: #008080; font-weight: bold\">2.299</span>\n",
       "</pre>\n"
      ],
      "text/plain": [
       "Average Translation Error       \u001b[1m(\u001b[0m%\u001b[1m)\u001b[0m: \u001b[1;36m2.299\u001b[0m\n"
      ]
     },
     "metadata": {},
     "output_type": "display_data"
    },
    {
     "data": {
      "text/html": [
       "<pre style=\"white-space:pre;overflow-x:auto;line-height:normal;font-family:Menlo,'DejaVu Sans Mono',consolas,'Courier New',monospace\">Average Rotational Error <span style=\"font-weight: bold\">(</span>deg/100m<span style=\"font-weight: bold\">)</span>: <span style=\"color: #008080; text-decoration-color: #008080; font-weight: bold\">0.629</span>\n",
       "</pre>\n"
      ],
      "text/plain": [
       "Average Rotational Error \u001b[1m(\u001b[0mdeg/100m\u001b[1m)\u001b[0m: \u001b[1;36m0.629\u001b[0m\n"
      ]
     },
     "metadata": {},
     "output_type": "display_data"
    },
    {
     "data": {
      "text/html": [
       "<pre style=\"white-space:pre;overflow-x:auto;line-height:normal;font-family:Menlo,'DejaVu Sans Mono',consolas,'Courier New',monospace\">Absoulte Trajectory Error       <span style=\"font-weight: bold\">(</span>m<span style=\"font-weight: bold\">)</span>: <span style=\"color: #008080; text-decoration-color: #008080; font-weight: bold\">44.412</span>\n",
       "</pre>\n"
      ],
      "text/plain": [
       "Absoulte Trajectory Error       \u001b[1m(\u001b[0mm\u001b[1m)\u001b[0m: \u001b[1;36m44.412\u001b[0m\n"
      ]
     },
     "metadata": {},
     "output_type": "display_data"
    },
    {
     "data": {
      "text/html": [
       "<pre style=\"white-space:pre;overflow-x:auto;line-height:normal;font-family:Menlo,'DejaVu Sans Mono',consolas,'Courier New',monospace\">SLAM evaluation:\n",
       "</pre>\n"
      ],
      "text/plain": [
       "SLAM evaluation:\n"
      ]
     },
     "metadata": {},
     "output_type": "display_data"
    },
    {
     "data": {
      "text/html": [
       "<pre style=\"white-space:pre;overflow-x:auto;line-height:normal;font-family:Menlo,'DejaVu Sans Mono',consolas,'Courier New',monospace\">Average Translation Error       <span style=\"font-weight: bold\">(</span>%<span style=\"font-weight: bold\">)</span>: <span style=\"color: #008080; text-decoration-color: #008080; font-weight: bold\">2.257</span>\n",
       "</pre>\n"
      ],
      "text/plain": [
       "Average Translation Error       \u001b[1m(\u001b[0m%\u001b[1m)\u001b[0m: \u001b[1;36m2.257\u001b[0m\n"
      ]
     },
     "metadata": {},
     "output_type": "display_data"
    },
    {
     "data": {
      "text/html": [
       "<pre style=\"white-space:pre;overflow-x:auto;line-height:normal;font-family:Menlo,'DejaVu Sans Mono',consolas,'Courier New',monospace\">Average Rotational Error <span style=\"font-weight: bold\">(</span>deg/100m<span style=\"font-weight: bold\">)</span>: <span style=\"color: #008080; text-decoration-color: #008080; font-weight: bold\">0.518</span>\n",
       "</pre>\n"
      ],
      "text/plain": [
       "Average Rotational Error \u001b[1m(\u001b[0mdeg/100m\u001b[1m)\u001b[0m: \u001b[1;36m0.518\u001b[0m\n"
      ]
     },
     "metadata": {},
     "output_type": "display_data"
    },
    {
     "data": {
      "text/html": [
       "<pre style=\"white-space:pre;overflow-x:auto;line-height:normal;font-family:Menlo,'DejaVu Sans Mono',consolas,'Courier New',monospace\">Absoulte Trajectory Error       <span style=\"font-weight: bold\">(</span>m<span style=\"font-weight: bold\">)</span>: <span style=\"color: #008080; text-decoration-color: #008080; font-weight: bold\">5.998</span>\n",
       "</pre>\n"
      ],
      "text/plain": [
       "Absoulte Trajectory Error       \u001b[1m(\u001b[0mm\u001b[1m)\u001b[0m: \u001b[1;36m5.998\u001b[0m\n"
      ]
     },
     "metadata": {},
     "output_type": "display_data"
    },
    {
     "data": {
      "text/html": [
       "<pre style=\"white-space:pre;overflow-x:auto;line-height:normal;font-family:Menlo,'DejaVu Sans Mono',consolas,'Courier New',monospace\"># Loop corrected:  <span style=\"color: #008080; text-decoration-color: #008080; font-weight: bold\">107</span>\n",
       "</pre>\n"
      ],
      "text/plain": [
       "# Loop corrected:  \u001b[1;36m107\u001b[0m\n"
      ]
     },
     "metadata": {},
     "output_type": "display_data"
    },
    {
     "data": {
      "text/markdown": [
       "# Experiment Results (MulRan dataset) \n",
       "|Metric|Value|\n",
       "|-:|:-|\n",
       "|Odometry ATE [%]|2.51|\n",
       "|Odometry ARE [deg/100m]|0.73|\n",
       "|SLAM RMSE [m]|4.51|\n"
      ]
     },
     "metadata": {},
     "output_type": "display_data"
    }
   ],
   "source": [
    "import pin_slam\n",
    "from eval.eval_traj_utils import get_metrics, mean_metrics\n",
    "import torch\n",
    "from IPython.display import display_markdown\n",
    "\n",
    "print('Device used:', torch.cuda.get_device_name(0))\n",
    "\n",
    "metrics_dicts = []\n",
    "seq_list = ['kaist01', 'kaist02', 'kaist03', 'dcc01', 'dcc02', 'dcc03', 'riverside01', 'riverside02', 'riverside03']\n",
    "for seq_str in seq_list:\n",
    "    print('Now evaluate sequence '+ seq_str)\n",
    "    seq_results = pin_slam.run_pin_slam('./config/lidar_slam/run_mulran.yaml', 'mulran', seq_str)\n",
    "    metrics_dict = get_metrics(seq_results)\n",
    "    metrics_dicts.append(metrics_dict)\n",
    "\n",
    "metric_mean = mean_metrics(metrics_dicts)\n",
    "table_results = f\"# Experiment Results (MulRan dataset) \\n|Metric|Value|\\n|-:|:-|\\n\"\n",
    "for metric, result in metric_mean.items():\n",
    "    table_results += f\"|{metric}|{result:.2f}|\\n\"\n",
    "display_markdown(table_results, raw=True)"
   ]
  }
 ],
 "metadata": {
  "interpreter": {
   "hash": "23ab7127a0bd204976f8870b5ba7b53bf3b662fb0566b25d6a446c21e6a7408b"
  },
  "kernelspec": {
   "display_name": "Python 3.8.17 ('pin')",
   "language": "python",
   "name": "python3"
  },
  "language_info": {
   "codemirror_mode": {
    "name": "ipython",
    "version": 3
   },
   "file_extension": ".py",
   "mimetype": "text/x-python",
   "name": "python",
   "nbconvert_exporter": "python",
   "pygments_lexer": "ipython3",
   "version": "3.8.19"
  },
  "orig_nbformat": 4
 },
 "nbformat": 4,
 "nbformat_minor": 2
}
