{
 "cells": [
  {
   "cell_type": "markdown",
   "metadata": {},
   "source": [
    "# PIN-SLAM running on Newer College dataset 2021 extension (NCD-128)\n",
    "The aim of this notebook is to serve as a reproducible entry point for the experiments outlined in the paper.\n",
    "\n",
    "To directly run this notebook without changing path, you need to put it in the parent directory of `eval`.\n",
    "\n",
    "Please download the dataset from [here](https://drive.google.com/drive/folders/15lTH5osZzZlDpcW7oXfR_2t8TNssNARS). Then you can use this [script](https://github.com/PRBonn/PIN_SLAM/blob/main/scripts/rosbag2ply.py) to extract point cloud frames from the rosbag and use this [script](https://github.com/PRBonn/PIN_SLAM/blob/main/dataset/converter/ncd128_pose_converter.py) to convert the reference pose to the KITTI format. \n",
    "\n",
    "Note: the results are slightly different using different random seeds and different hardwares.\n",
    "\n"
   ]
  },
  {
   "cell_type": "code",
   "execution_count": 1,
   "metadata": {},
   "outputs": [
    {
     "name": "stdout",
     "output_type": "stream",
     "text": [
      "Jupyter environment detected. Enabling Open3D WebVisualizer.\n",
      "[Open3D INFO] WebRTC GUI backend enabled.\n",
      "[Open3D INFO] WebRTCWindowSystem: HTTP handshake server disabled.\n",
      "Device used: NVIDIA RTX A4000\n",
      "Now evaluate sequence quad_e\n"
     ]
    },
    {
     "name": "stderr",
     "output_type": "stream",
     "text": [
      "100%|██████████|1988/1988\n"
     ]
    },
    {
     "data": {
      "text/html": [
       "<pre style=\"white-space:pre;overflow-x:auto;line-height:normal;font-family:Menlo,'DejaVu Sans Mono',consolas,'Courier New',monospace\">Odometry evaluation:\n",
       "</pre>\n"
      ],
      "text/plain": [
       "Odometry evaluation:\n"
      ]
     },
     "metadata": {},
     "output_type": "display_data"
    },
    {
     "data": {
      "text/html": [
       "<pre style=\"white-space:pre;overflow-x:auto;line-height:normal;font-family:Menlo,'DejaVu Sans Mono',consolas,'Courier New',monospace\">Average Translation Error       <span style=\"font-weight: bold\">(</span>%<span style=\"font-weight: bold\">)</span>: <span style=\"color: #008080; text-decoration-color: #008080; font-weight: bold\">0.365</span>\n",
       "</pre>\n"
      ],
      "text/plain": [
       "Average Translation Error       \u001b[1m(\u001b[0m%\u001b[1m)\u001b[0m: \u001b[1;36m0.365\u001b[0m\n"
      ]
     },
     "metadata": {},
     "output_type": "display_data"
    },
    {
     "data": {
      "text/html": [
       "<pre style=\"white-space:pre;overflow-x:auto;line-height:normal;font-family:Menlo,'DejaVu Sans Mono',consolas,'Courier New',monospace\">Average Rotational Error <span style=\"font-weight: bold\">(</span>deg/100m<span style=\"font-weight: bold\">)</span>: <span style=\"color: #008080; text-decoration-color: #008080; font-weight: bold\">1.725</span>\n",
       "</pre>\n"
      ],
      "text/plain": [
       "Average Rotational Error \u001b[1m(\u001b[0mdeg/100m\u001b[1m)\u001b[0m: \u001b[1;36m1.725\u001b[0m\n"
      ]
     },
     "metadata": {},
     "output_type": "display_data"
    },
    {
     "data": {
      "text/html": [
       "<pre style=\"white-space:pre;overflow-x:auto;line-height:normal;font-family:Menlo,'DejaVu Sans Mono',consolas,'Courier New',monospace\">Absoulte Trajectory Error       <span style=\"font-weight: bold\">(</span>m<span style=\"font-weight: bold\">)</span>: <span style=\"color: #008080; text-decoration-color: #008080; font-weight: bold\">0.094</span>\n",
       "</pre>\n"
      ],
      "text/plain": [
       "Absoulte Trajectory Error       \u001b[1m(\u001b[0mm\u001b[1m)\u001b[0m: \u001b[1;36m0.094\u001b[0m\n"
      ]
     },
     "metadata": {},
     "output_type": "display_data"
    },
    {
     "data": {
      "text/html": [
       "<pre style=\"white-space:pre;overflow-x:auto;line-height:normal;font-family:Menlo,'DejaVu Sans Mono',consolas,'Courier New',monospace\">SLAM evaluation:\n",
       "</pre>\n"
      ],
      "text/plain": [
       "SLAM evaluation:\n"
      ]
     },
     "metadata": {},
     "output_type": "display_data"
    },
    {
     "data": {
      "text/html": [
       "<pre style=\"white-space:pre;overflow-x:auto;line-height:normal;font-family:Menlo,'DejaVu Sans Mono',consolas,'Courier New',monospace\">Average Translation Error       <span style=\"font-weight: bold\">(</span>%<span style=\"font-weight: bold\">)</span>: <span style=\"color: #008080; text-decoration-color: #008080; font-weight: bold\">0.365</span>\n",
       "</pre>\n"
      ],
      "text/plain": [
       "Average Translation Error       \u001b[1m(\u001b[0m%\u001b[1m)\u001b[0m: \u001b[1;36m0.365\u001b[0m\n"
      ]
     },
     "metadata": {},
     "output_type": "display_data"
    },
    {
     "data": {
      "text/html": [
       "<pre style=\"white-space:pre;overflow-x:auto;line-height:normal;font-family:Menlo,'DejaVu Sans Mono',consolas,'Courier New',monospace\">Average Rotational Error <span style=\"font-weight: bold\">(</span>deg/100m<span style=\"font-weight: bold\">)</span>: <span style=\"color: #008080; text-decoration-color: #008080; font-weight: bold\">1.724</span>\n",
       "</pre>\n"
      ],
      "text/plain": [
       "Average Rotational Error \u001b[1m(\u001b[0mdeg/100m\u001b[1m)\u001b[0m: \u001b[1;36m1.724\u001b[0m\n"
      ]
     },
     "metadata": {},
     "output_type": "display_data"
    },
    {
     "data": {
      "text/html": [
       "<pre style=\"white-space:pre;overflow-x:auto;line-height:normal;font-family:Menlo,'DejaVu Sans Mono',consolas,'Courier New',monospace\">Absoulte Trajectory Error       <span style=\"font-weight: bold\">(</span>m<span style=\"font-weight: bold\">)</span>: <span style=\"color: #008080; text-decoration-color: #008080; font-weight: bold\">0.094</span>\n",
       "</pre>\n"
      ],
      "text/plain": [
       "Absoulte Trajectory Error       \u001b[1m(\u001b[0mm\u001b[1m)\u001b[0m: \u001b[1;36m0.094\u001b[0m\n"
      ]
     },
     "metadata": {},
     "output_type": "display_data"
    },
    {
     "data": {
      "text/html": [
       "<pre style=\"white-space:pre;overflow-x:auto;line-height:normal;font-family:Menlo,'DejaVu Sans Mono',consolas,'Courier New',monospace\"># Loop corrected:  <span style=\"color: #008080; text-decoration-color: #008080; font-weight: bold\">2</span>\n",
       "</pre>\n"
      ],
      "text/plain": [
       "# Loop corrected:  \u001b[1;36m2\u001b[0m\n"
      ]
     },
     "metadata": {},
     "output_type": "display_data"
    },
    {
     "name": "stdout",
     "output_type": "stream",
     "text": [
      "Now evaluate sequence math_e\n"
     ]
    },
    {
     "name": "stderr",
     "output_type": "stream",
     "text": [
      "100%|██████████|2160/2160\n"
     ]
    },
    {
     "data": {
      "text/html": [
       "<pre style=\"white-space:pre;overflow-x:auto;line-height:normal;font-family:Menlo,'DejaVu Sans Mono',consolas,'Courier New',monospace\">Odometry evaluation:\n",
       "</pre>\n"
      ],
      "text/plain": [
       "Odometry evaluation:\n"
      ]
     },
     "metadata": {},
     "output_type": "display_data"
    },
    {
     "data": {
      "text/html": [
       "<pre style=\"white-space:pre;overflow-x:auto;line-height:normal;font-family:Menlo,'DejaVu Sans Mono',consolas,'Courier New',monospace\">Average Translation Error       <span style=\"font-weight: bold\">(</span>%<span style=\"font-weight: bold\">)</span>: <span style=\"color: #008080; text-decoration-color: #008080; font-weight: bold\">0.282</span>\n",
       "</pre>\n"
      ],
      "text/plain": [
       "Average Translation Error       \u001b[1m(\u001b[0m%\u001b[1m)\u001b[0m: \u001b[1;36m0.282\u001b[0m\n"
      ]
     },
     "metadata": {},
     "output_type": "display_data"
    },
    {
     "data": {
      "text/html": [
       "<pre style=\"white-space:pre;overflow-x:auto;line-height:normal;font-family:Menlo,'DejaVu Sans Mono',consolas,'Courier New',monospace\">Average Rotational Error <span style=\"font-weight: bold\">(</span>deg/100m<span style=\"font-weight: bold\">)</span>: <span style=\"color: #008080; text-decoration-color: #008080; font-weight: bold\">0.549</span>\n",
       "</pre>\n"
      ],
      "text/plain": [
       "Average Rotational Error \u001b[1m(\u001b[0mdeg/100m\u001b[1m)\u001b[0m: \u001b[1;36m0.549\u001b[0m\n"
      ]
     },
     "metadata": {},
     "output_type": "display_data"
    },
    {
     "data": {
      "text/html": [
       "<pre style=\"white-space:pre;overflow-x:auto;line-height:normal;font-family:Menlo,'DejaVu Sans Mono',consolas,'Courier New',monospace\">Absoulte Trajectory Error       <span style=\"font-weight: bold\">(</span>m<span style=\"font-weight: bold\">)</span>: <span style=\"color: #008080; text-decoration-color: #008080; font-weight: bold\">0.085</span>\n",
       "</pre>\n"
      ],
      "text/plain": [
       "Absoulte Trajectory Error       \u001b[1m(\u001b[0mm\u001b[1m)\u001b[0m: \u001b[1;36m0.085\u001b[0m\n"
      ]
     },
     "metadata": {},
     "output_type": "display_data"
    },
    {
     "data": {
      "text/html": [
       "<pre style=\"white-space:pre;overflow-x:auto;line-height:normal;font-family:Menlo,'DejaVu Sans Mono',consolas,'Courier New',monospace\">SLAM evaluation:\n",
       "</pre>\n"
      ],
      "text/plain": [
       "SLAM evaluation:\n"
      ]
     },
     "metadata": {},
     "output_type": "display_data"
    },
    {
     "data": {
      "text/html": [
       "<pre style=\"white-space:pre;overflow-x:auto;line-height:normal;font-family:Menlo,'DejaVu Sans Mono',consolas,'Courier New',monospace\">Average Translation Error       <span style=\"font-weight: bold\">(</span>%<span style=\"font-weight: bold\">)</span>: <span style=\"color: #008080; text-decoration-color: #008080; font-weight: bold\">0.282</span>\n",
       "</pre>\n"
      ],
      "text/plain": [
       "Average Translation Error       \u001b[1m(\u001b[0m%\u001b[1m)\u001b[0m: \u001b[1;36m0.282\u001b[0m\n"
      ]
     },
     "metadata": {},
     "output_type": "display_data"
    },
    {
     "data": {
      "text/html": [
       "<pre style=\"white-space:pre;overflow-x:auto;line-height:normal;font-family:Menlo,'DejaVu Sans Mono',consolas,'Courier New',monospace\">Average Rotational Error <span style=\"font-weight: bold\">(</span>deg/100m<span style=\"font-weight: bold\">)</span>: <span style=\"color: #008080; text-decoration-color: #008080; font-weight: bold\">0.549</span>\n",
       "</pre>\n"
      ],
      "text/plain": [
       "Average Rotational Error \u001b[1m(\u001b[0mdeg/100m\u001b[1m)\u001b[0m: \u001b[1;36m0.549\u001b[0m\n"
      ]
     },
     "metadata": {},
     "output_type": "display_data"
    },
    {
     "data": {
      "text/html": [
       "<pre style=\"white-space:pre;overflow-x:auto;line-height:normal;font-family:Menlo,'DejaVu Sans Mono',consolas,'Courier New',monospace\">Absoulte Trajectory Error       <span style=\"font-weight: bold\">(</span>m<span style=\"font-weight: bold\">)</span>: <span style=\"color: #008080; text-decoration-color: #008080; font-weight: bold\">0.085</span>\n",
       "</pre>\n"
      ],
      "text/plain": [
       "Absoulte Trajectory Error       \u001b[1m(\u001b[0mm\u001b[1m)\u001b[0m: \u001b[1;36m0.085\u001b[0m\n"
      ]
     },
     "metadata": {},
     "output_type": "display_data"
    },
    {
     "data": {
      "text/html": [
       "<pre style=\"white-space:pre;overflow-x:auto;line-height:normal;font-family:Menlo,'DejaVu Sans Mono',consolas,'Courier New',monospace\"># Loop corrected:  <span style=\"color: #008080; text-decoration-color: #008080; font-weight: bold\">2</span>\n",
       "</pre>\n"
      ],
      "text/plain": [
       "# Loop corrected:  \u001b[1;36m2\u001b[0m\n"
      ]
     },
     "metadata": {},
     "output_type": "display_data"
    },
    {
     "name": "stdout",
     "output_type": "stream",
     "text": [
      "Now evaluate sequence underground_e\n"
     ]
    },
    {
     "name": "stderr",
     "output_type": "stream",
     "text": [
      "100%|██████████|1411/1411\n"
     ]
    },
    {
     "data": {
      "text/html": [
       "<pre style=\"white-space:pre;overflow-x:auto;line-height:normal;font-family:Menlo,'DejaVu Sans Mono',consolas,'Courier New',monospace\">Odometry evaluation:\n",
       "</pre>\n"
      ],
      "text/plain": [
       "Odometry evaluation:\n"
      ]
     },
     "metadata": {},
     "output_type": "display_data"
    },
    {
     "data": {
      "text/html": [
       "<pre style=\"white-space:pre;overflow-x:auto;line-height:normal;font-family:Menlo,'DejaVu Sans Mono',consolas,'Courier New',monospace\">Average Translation Error       <span style=\"font-weight: bold\">(</span>%<span style=\"font-weight: bold\">)</span>: <span style=\"color: #008080; text-decoration-color: #008080; font-weight: bold\">0.399</span>\n",
       "</pre>\n"
      ],
      "text/plain": [
       "Average Translation Error       \u001b[1m(\u001b[0m%\u001b[1m)\u001b[0m: \u001b[1;36m0.399\u001b[0m\n"
      ]
     },
     "metadata": {},
     "output_type": "display_data"
    },
    {
     "data": {
      "text/html": [
       "<pre style=\"white-space:pre;overflow-x:auto;line-height:normal;font-family:Menlo,'DejaVu Sans Mono',consolas,'Courier New',monospace\">Average Rotational Error <span style=\"font-weight: bold\">(</span>deg/100m<span style=\"font-weight: bold\">)</span>: <span style=\"color: #008080; text-decoration-color: #008080; font-weight: bold\">1.728</span>\n",
       "</pre>\n"
      ],
      "text/plain": [
       "Average Rotational Error \u001b[1m(\u001b[0mdeg/100m\u001b[1m)\u001b[0m: \u001b[1;36m1.728\u001b[0m\n"
      ]
     },
     "metadata": {},
     "output_type": "display_data"
    },
    {
     "data": {
      "text/html": [
       "<pre style=\"white-space:pre;overflow-x:auto;line-height:normal;font-family:Menlo,'DejaVu Sans Mono',consolas,'Courier New',monospace\">Absoulte Trajectory Error       <span style=\"font-weight: bold\">(</span>m<span style=\"font-weight: bold\">)</span>: <span style=\"color: #008080; text-decoration-color: #008080; font-weight: bold\">0.069</span>\n",
       "</pre>\n"
      ],
      "text/plain": [
       "Absoulte Trajectory Error       \u001b[1m(\u001b[0mm\u001b[1m)\u001b[0m: \u001b[1;36m0.069\u001b[0m\n"
      ]
     },
     "metadata": {},
     "output_type": "display_data"
    },
    {
     "data": {
      "text/html": [
       "<pre style=\"white-space:pre;overflow-x:auto;line-height:normal;font-family:Menlo,'DejaVu Sans Mono',consolas,'Courier New',monospace\">SLAM evaluation:\n",
       "</pre>\n"
      ],
      "text/plain": [
       "SLAM evaluation:\n"
      ]
     },
     "metadata": {},
     "output_type": "display_data"
    },
    {
     "data": {
      "text/html": [
       "<pre style=\"white-space:pre;overflow-x:auto;line-height:normal;font-family:Menlo,'DejaVu Sans Mono',consolas,'Courier New',monospace\">Average Translation Error       <span style=\"font-weight: bold\">(</span>%<span style=\"font-weight: bold\">)</span>: <span style=\"color: #008080; text-decoration-color: #008080; font-weight: bold\">0.399</span>\n",
       "</pre>\n"
      ],
      "text/plain": [
       "Average Translation Error       \u001b[1m(\u001b[0m%\u001b[1m)\u001b[0m: \u001b[1;36m0.399\u001b[0m\n"
      ]
     },
     "metadata": {},
     "output_type": "display_data"
    },
    {
     "data": {
      "text/html": [
       "<pre style=\"white-space:pre;overflow-x:auto;line-height:normal;font-family:Menlo,'DejaVu Sans Mono',consolas,'Courier New',monospace\">Average Rotational Error <span style=\"font-weight: bold\">(</span>deg/100m<span style=\"font-weight: bold\">)</span>: <span style=\"color: #008080; text-decoration-color: #008080; font-weight: bold\">1.728</span>\n",
       "</pre>\n"
      ],
      "text/plain": [
       "Average Rotational Error \u001b[1m(\u001b[0mdeg/100m\u001b[1m)\u001b[0m: \u001b[1;36m1.728\u001b[0m\n"
      ]
     },
     "metadata": {},
     "output_type": "display_data"
    },
    {
     "data": {
      "text/html": [
       "<pre style=\"white-space:pre;overflow-x:auto;line-height:normal;font-family:Menlo,'DejaVu Sans Mono',consolas,'Courier New',monospace\">Absoulte Trajectory Error       <span style=\"font-weight: bold\">(</span>m<span style=\"font-weight: bold\">)</span>: <span style=\"color: #008080; text-decoration-color: #008080; font-weight: bold\">0.069</span>\n",
       "</pre>\n"
      ],
      "text/plain": [
       "Absoulte Trajectory Error       \u001b[1m(\u001b[0mm\u001b[1m)\u001b[0m: \u001b[1;36m0.069\u001b[0m\n"
      ]
     },
     "metadata": {},
     "output_type": "display_data"
    },
    {
     "name": "stdout",
     "output_type": "stream",
     "text": [
      "Now evaluate sequence cloister\n"
     ]
    },
    {
     "name": "stderr",
     "output_type": "stream",
     "text": [
      "100%|██████████|2787/2787\n"
     ]
    },
    {
     "data": {
      "text/html": [
       "<pre style=\"white-space:pre;overflow-x:auto;line-height:normal;font-family:Menlo,'DejaVu Sans Mono',consolas,'Courier New',monospace\">Odometry evaluation:\n",
       "</pre>\n"
      ],
      "text/plain": [
       "Odometry evaluation:\n"
      ]
     },
     "metadata": {},
     "output_type": "display_data"
    },
    {
     "data": {
      "text/html": [
       "<pre style=\"white-space:pre;overflow-x:auto;line-height:normal;font-family:Menlo,'DejaVu Sans Mono',consolas,'Courier New',monospace\">Average Translation Error       <span style=\"font-weight: bold\">(</span>%<span style=\"font-weight: bold\">)</span>: <span style=\"color: #008080; text-decoration-color: #008080; font-weight: bold\">0.466</span>\n",
       "</pre>\n"
      ],
      "text/plain": [
       "Average Translation Error       \u001b[1m(\u001b[0m%\u001b[1m)\u001b[0m: \u001b[1;36m0.466\u001b[0m\n"
      ]
     },
     "metadata": {},
     "output_type": "display_data"
    },
    {
     "data": {
      "text/html": [
       "<pre style=\"white-space:pre;overflow-x:auto;line-height:normal;font-family:Menlo,'DejaVu Sans Mono',consolas,'Courier New',monospace\">Average Rotational Error <span style=\"font-weight: bold\">(</span>deg/100m<span style=\"font-weight: bold\">)</span>: <span style=\"color: #008080; text-decoration-color: #008080; font-weight: bold\">1.165</span>\n",
       "</pre>\n"
      ],
      "text/plain": [
       "Average Rotational Error \u001b[1m(\u001b[0mdeg/100m\u001b[1m)\u001b[0m: \u001b[1;36m1.165\u001b[0m\n"
      ]
     },
     "metadata": {},
     "output_type": "display_data"
    },
    {
     "data": {
      "text/html": [
       "<pre style=\"white-space:pre;overflow-x:auto;line-height:normal;font-family:Menlo,'DejaVu Sans Mono',consolas,'Courier New',monospace\">Absoulte Trajectory Error       <span style=\"font-weight: bold\">(</span>m<span style=\"font-weight: bold\">)</span>: <span style=\"color: #008080; text-decoration-color: #008080; font-weight: bold\">0.185</span>\n",
       "</pre>\n"
      ],
      "text/plain": [
       "Absoulte Trajectory Error       \u001b[1m(\u001b[0mm\u001b[1m)\u001b[0m: \u001b[1;36m0.185\u001b[0m\n"
      ]
     },
     "metadata": {},
     "output_type": "display_data"
    },
    {
     "data": {
      "text/html": [
       "<pre style=\"white-space:pre;overflow-x:auto;line-height:normal;font-family:Menlo,'DejaVu Sans Mono',consolas,'Courier New',monospace\">SLAM evaluation:\n",
       "</pre>\n"
      ],
      "text/plain": [
       "SLAM evaluation:\n"
      ]
     },
     "metadata": {},
     "output_type": "display_data"
    },
    {
     "data": {
      "text/html": [
       "<pre style=\"white-space:pre;overflow-x:auto;line-height:normal;font-family:Menlo,'DejaVu Sans Mono',consolas,'Courier New',monospace\">Average Translation Error       <span style=\"font-weight: bold\">(</span>%<span style=\"font-weight: bold\">)</span>: <span style=\"color: #008080; text-decoration-color: #008080; font-weight: bold\">0.462</span>\n",
       "</pre>\n"
      ],
      "text/plain": [
       "Average Translation Error       \u001b[1m(\u001b[0m%\u001b[1m)\u001b[0m: \u001b[1;36m0.462\u001b[0m\n"
      ]
     },
     "metadata": {},
     "output_type": "display_data"
    },
    {
     "data": {
      "text/html": [
       "<pre style=\"white-space:pre;overflow-x:auto;line-height:normal;font-family:Menlo,'DejaVu Sans Mono',consolas,'Courier New',monospace\">Average Rotational Error <span style=\"font-weight: bold\">(</span>deg/100m<span style=\"font-weight: bold\">)</span>: <span style=\"color: #008080; text-decoration-color: #008080; font-weight: bold\">1.150</span>\n",
       "</pre>\n"
      ],
      "text/plain": [
       "Average Rotational Error \u001b[1m(\u001b[0mdeg/100m\u001b[1m)\u001b[0m: \u001b[1;36m1.150\u001b[0m\n"
      ]
     },
     "metadata": {},
     "output_type": "display_data"
    },
    {
     "data": {
      "text/html": [
       "<pre style=\"white-space:pre;overflow-x:auto;line-height:normal;font-family:Menlo,'DejaVu Sans Mono',consolas,'Courier New',monospace\">Absoulte Trajectory Error       <span style=\"font-weight: bold\">(</span>m<span style=\"font-weight: bold\">)</span>: <span style=\"color: #008080; text-decoration-color: #008080; font-weight: bold\">0.154</span>\n",
       "</pre>\n"
      ],
      "text/plain": [
       "Absoulte Trajectory Error       \u001b[1m(\u001b[0mm\u001b[1m)\u001b[0m: \u001b[1;36m0.154\u001b[0m\n"
      ]
     },
     "metadata": {},
     "output_type": "display_data"
    },
    {
     "data": {
      "text/html": [
       "<pre style=\"white-space:pre;overflow-x:auto;line-height:normal;font-family:Menlo,'DejaVu Sans Mono',consolas,'Courier New',monospace\"># Loop corrected:  <span style=\"color: #008080; text-decoration-color: #008080; font-weight: bold\">16</span>\n",
       "</pre>\n"
      ],
      "text/plain": [
       "# Loop corrected:  \u001b[1;36m16\u001b[0m\n"
      ]
     },
     "metadata": {},
     "output_type": "display_data"
    },
    {
     "name": "stdout",
     "output_type": "stream",
     "text": [
      "Now evaluate sequence stairs\n"
     ]
    },
    {
     "name": "stderr",
     "output_type": "stream",
     "text": [
      "100%|██████████|1190/1190\n"
     ]
    },
    {
     "data": {
      "text/html": [
       "<pre style=\"white-space:pre;overflow-x:auto;line-height:normal;font-family:Menlo,'DejaVu Sans Mono',consolas,'Courier New',monospace\">Odometry evaluation:\n",
       "</pre>\n"
      ],
      "text/plain": [
       "Odometry evaluation:\n"
      ]
     },
     "metadata": {},
     "output_type": "display_data"
    },
    {
     "data": {
      "text/html": [
       "<pre style=\"white-space:pre;overflow-x:auto;line-height:normal;font-family:Menlo,'DejaVu Sans Mono',consolas,'Courier New',monospace\">Absoulte Trajectory Error      <span style=\"font-weight: bold\">(</span>cm<span style=\"font-weight: bold\">)</span>: <span style=\"color: #008080; text-decoration-color: #008080; font-weight: bold\">7.201</span>\n",
       "</pre>\n"
      ],
      "text/plain": [
       "Absoulte Trajectory Error      \u001b[1m(\u001b[0mcm\u001b[1m)\u001b[0m: \u001b[1;36m7.201\u001b[0m\n"
      ]
     },
     "metadata": {},
     "output_type": "display_data"
    },
    {
     "data": {
      "text/html": [
       "<pre style=\"white-space:pre;overflow-x:auto;line-height:normal;font-family:Menlo,'DejaVu Sans Mono',consolas,'Courier New',monospace\">SLAM evaluation:\n",
       "</pre>\n"
      ],
      "text/plain": [
       "SLAM evaluation:\n"
      ]
     },
     "metadata": {},
     "output_type": "display_data"
    },
    {
     "data": {
      "text/html": [
       "<pre style=\"white-space:pre;overflow-x:auto;line-height:normal;font-family:Menlo,'DejaVu Sans Mono',consolas,'Courier New',monospace\">Absoulte Trajectory Error      <span style=\"font-weight: bold\">(</span>cm<span style=\"font-weight: bold\">)</span>: <span style=\"color: #008080; text-decoration-color: #008080; font-weight: bold\">6.436</span>\n",
       "</pre>\n"
      ],
      "text/plain": [
       "Absoulte Trajectory Error      \u001b[1m(\u001b[0mcm\u001b[1m)\u001b[0m: \u001b[1;36m6.436\u001b[0m\n"
      ]
     },
     "metadata": {},
     "output_type": "display_data"
    },
    {
     "data": {
      "text/html": [
       "<pre style=\"white-space:pre;overflow-x:auto;line-height:normal;font-family:Menlo,'DejaVu Sans Mono',consolas,'Courier New',monospace\"># Loop corrected:  <span style=\"color: #008080; text-decoration-color: #008080; font-weight: bold\">2</span>\n",
       "</pre>\n"
      ],
      "text/plain": [
       "# Loop corrected:  \u001b[1;36m2\u001b[0m\n"
      ]
     },
     "metadata": {},
     "output_type": "display_data"
    },
    {
     "data": {
      "text/markdown": [
       "# Experiment Results (Newer College 128 dataset) \n",
       "|Metric|Value|\n",
       "|-:|:-|\n",
       "|Odometry ATE [%]|0.30|\n",
       "|Odometry ARE [deg/100m]|1.03|\n",
       "|SLAM RMSE [m]|0.09|\n"
      ]
     },
     "metadata": {},
     "output_type": "display_data"
    }
   ],
   "source": [
    "import os\n",
    "import torch\n",
    "from IPython.display import display_markdown\n",
    "import pin_slam\n",
    "from eval.eval_traj_utils import get_metrics, mean_metrics\n",
    "\n",
    "print('Device used:', torch.cuda.get_device_name(0))\n",
    "\n",
    "metrics_dicts = []\n",
    "seq_list = ['quad_e', 'math_e', 'underground_e', 'cloister', 'stairs']\n",
    "config_list = ['run_ncd_128', 'run_ncd_128', 'run_ncd_128', 'run_ncd_128_m', 'run_ncd_128_s']\n",
    "for (seq_str, config_str) in zip(seq_list, config_list):\n",
    "    print('Now evaluate sequence '+ seq_str)\n",
    "    seq_results = pin_slam.run_pin_slam(os.path.join('./config/lidar_slam', config_str + '.yaml'), 'ncd128', seq_str)\n",
    "    metrics_dict = get_metrics(seq_results)\n",
    "    metrics_dicts.append(metrics_dict)\n",
    "\n",
    "metric_mean = mean_metrics(metrics_dicts)\n",
    "table_results = f\"# Experiment Results (Newer College 128 dataset) \\n|Metric|Value|\\n|-:|:-|\\n\"\n",
    "for metric, result in metric_mean.items():\n",
    "    table_results += f\"|{metric}|{result:.2f}|\\n\"\n",
    "display_markdown(table_results, raw=True)"
   ]
  }
 ],
 "metadata": {
  "interpreter": {
   "hash": "23ab7127a0bd204976f8870b5ba7b53bf3b662fb0566b25d6a446c21e6a7408b"
  },
  "kernelspec": {
   "display_name": "Python 3.8.17 ('pin')",
   "language": "python",
   "name": "python3"
  },
  "language_info": {
   "codemirror_mode": {
    "name": "ipython",
    "version": 3
   },
   "file_extension": ".py",
   "mimetype": "text/x-python",
   "name": "python",
   "nbconvert_exporter": "python",
   "pygments_lexer": "ipython3",
   "version": "3.8.19"
  },
  "orig_nbformat": 4
 },
 "nbformat": 4,
 "nbformat_minor": 2
}
