{
 "cells": [
  {
   "cell_type": "markdown",
   "metadata": {},
   "source": [
    "# PIN-SLAM running on the Replica RGB-D dataset\n",
    "The aim of this notebook is to serve as a reproducible entry point for the experiments outlined in the paper.\n",
    "\n",
    "To directly run this notebook without changing path, you need to put it in the parent directory of `eval`.\n",
    "\n",
    "Please download the dataset by this [script](https://github.com/PRBonn/PIN_SLAM/blob/main/scripts/download_replica.sh) and use this [script](https://github.com/PRBonn/PIN_SLAM/blob/main/scripts/convert_replica.sh) to convert to the desired format for PIN-SLAM. \n",
    "\n",
    "Note: the results are slightly different using different random seeds and different hardwares.\n",
    "\n"
   ]
  },
  {
   "cell_type": "code",
   "execution_count": 1,
   "metadata": {},
   "outputs": [
    {
     "name": "stdout",
     "output_type": "stream",
     "text": [
      "Jupyter environment detected. Enabling Open3D WebVisualizer.\n",
      "[Open3D INFO] WebRTC GUI backend enabled.\n",
      "[Open3D INFO] WebRTCWindowSystem: HTTP handshake server disabled.\n",
      "Device used: NVIDIA RTX A4000\n",
      "Now evaluate sequence room0\n"
     ]
    },
    {
     "name": "stderr",
     "output_type": "stream",
     "text": [
      "100%|██████████|2000/2000\n"
     ]
    },
    {
     "data": {
      "text/html": [
       "<pre style=\"white-space:pre;overflow-x:auto;line-height:normal;font-family:Menlo,'DejaVu Sans Mono',consolas,'Courier New',monospace\">Odometry evaluation:\n",
       "</pre>\n"
      ],
      "text/plain": [
       "Odometry evaluation:\n"
      ]
     },
     "metadata": {},
     "output_type": "display_data"
    },
    {
     "data": {
      "text/html": [
       "<pre style=\"white-space:pre;overflow-x:auto;line-height:normal;font-family:Menlo,'DejaVu Sans Mono',consolas,'Courier New',monospace\">Absoulte Trajectory Error      <span style=\"font-weight: bold\">(</span>cm<span style=\"font-weight: bold\">)</span>: <span style=\"color: #008080; text-decoration-color: #008080; font-weight: bold\">0.266</span>\n",
       "</pre>\n"
      ],
      "text/plain": [
       "Absoulte Trajectory Error      \u001b[1m(\u001b[0mcm\u001b[1m)\u001b[0m: \u001b[1;36m0.266\u001b[0m\n"
      ]
     },
     "metadata": {},
     "output_type": "display_data"
    },
    {
     "name": "stdout",
     "output_type": "stream",
     "text": [
      "Now evaluate sequence room1\n"
     ]
    },
    {
     "name": "stderr",
     "output_type": "stream",
     "text": [
      "100%|██████████|2000/2000\n"
     ]
    },
    {
     "data": {
      "text/html": [
       "<pre style=\"white-space:pre;overflow-x:auto;line-height:normal;font-family:Menlo,'DejaVu Sans Mono',consolas,'Courier New',monospace\">Odometry evaluation:\n",
       "</pre>\n"
      ],
      "text/plain": [
       "Odometry evaluation:\n"
      ]
     },
     "metadata": {},
     "output_type": "display_data"
    },
    {
     "data": {
      "text/html": [
       "<pre style=\"white-space:pre;overflow-x:auto;line-height:normal;font-family:Menlo,'DejaVu Sans Mono',consolas,'Courier New',monospace\">Absoulte Trajectory Error      <span style=\"font-weight: bold\">(</span>cm<span style=\"font-weight: bold\">)</span>: <span style=\"color: #008080; text-decoration-color: #008080; font-weight: bold\">0.308</span>\n",
       "</pre>\n"
      ],
      "text/plain": [
       "Absoulte Trajectory Error      \u001b[1m(\u001b[0mcm\u001b[1m)\u001b[0m: \u001b[1;36m0.308\u001b[0m\n"
      ]
     },
     "metadata": {},
     "output_type": "display_data"
    },
    {
     "name": "stdout",
     "output_type": "stream",
     "text": [
      "Now evaluate sequence room2\n"
     ]
    },
    {
     "name": "stderr",
     "output_type": "stream",
     "text": [
      "100%|██████████|2000/2000\n"
     ]
    },
    {
     "data": {
      "text/html": [
       "<pre style=\"white-space:pre;overflow-x:auto;line-height:normal;font-family:Menlo,'DejaVu Sans Mono',consolas,'Courier New',monospace\">Odometry evaluation:\n",
       "</pre>\n"
      ],
      "text/plain": [
       "Odometry evaluation:\n"
      ]
     },
     "metadata": {},
     "output_type": "display_data"
    },
    {
     "data": {
      "text/html": [
       "<pre style=\"white-space:pre;overflow-x:auto;line-height:normal;font-family:Menlo,'DejaVu Sans Mono',consolas,'Courier New',monospace\">Absoulte Trajectory Error      <span style=\"font-weight: bold\">(</span>cm<span style=\"font-weight: bold\">)</span>: <span style=\"color: #008080; text-decoration-color: #008080; font-weight: bold\">0.135</span>\n",
       "</pre>\n"
      ],
      "text/plain": [
       "Absoulte Trajectory Error      \u001b[1m(\u001b[0mcm\u001b[1m)\u001b[0m: \u001b[1;36m0.135\u001b[0m\n"
      ]
     },
     "metadata": {},
     "output_type": "display_data"
    },
    {
     "name": "stdout",
     "output_type": "stream",
     "text": [
      "Now evaluate sequence office0\n"
     ]
    },
    {
     "name": "stderr",
     "output_type": "stream",
     "text": [
      "100%|██████████|2000/2000\n"
     ]
    },
    {
     "data": {
      "text/html": [
       "<pre style=\"white-space:pre;overflow-x:auto;line-height:normal;font-family:Menlo,'DejaVu Sans Mono',consolas,'Courier New',monospace\">Odometry evaluation:\n",
       "</pre>\n"
      ],
      "text/plain": [
       "Odometry evaluation:\n"
      ]
     },
     "metadata": {},
     "output_type": "display_data"
    },
    {
     "data": {
      "text/html": [
       "<pre style=\"white-space:pre;overflow-x:auto;line-height:normal;font-family:Menlo,'DejaVu Sans Mono',consolas,'Courier New',monospace\">Absoulte Trajectory Error      <span style=\"font-weight: bold\">(</span>cm<span style=\"font-weight: bold\">)</span>: <span style=\"color: #008080; text-decoration-color: #008080; font-weight: bold\">0.221</span>\n",
       "</pre>\n"
      ],
      "text/plain": [
       "Absoulte Trajectory Error      \u001b[1m(\u001b[0mcm\u001b[1m)\u001b[0m: \u001b[1;36m0.221\u001b[0m\n"
      ]
     },
     "metadata": {},
     "output_type": "display_data"
    },
    {
     "name": "stdout",
     "output_type": "stream",
     "text": [
      "Now evaluate sequence office1\n"
     ]
    },
    {
     "name": "stderr",
     "output_type": "stream",
     "text": [
      "100%|██████████|2000/2000\n"
     ]
    },
    {
     "data": {
      "text/html": [
       "<pre style=\"white-space:pre;overflow-x:auto;line-height:normal;font-family:Menlo,'DejaVu Sans Mono',consolas,'Courier New',monospace\">Odometry evaluation:\n",
       "</pre>\n"
      ],
      "text/plain": [
       "Odometry evaluation:\n"
      ]
     },
     "metadata": {},
     "output_type": "display_data"
    },
    {
     "data": {
      "text/html": [
       "<pre style=\"white-space:pre;overflow-x:auto;line-height:normal;font-family:Menlo,'DejaVu Sans Mono',consolas,'Courier New',monospace\">Absoulte Trajectory Error      <span style=\"font-weight: bold\">(</span>cm<span style=\"font-weight: bold\">)</span>: <span style=\"color: #008080; text-decoration-color: #008080; font-weight: bold\">0.299</span>\n",
       "</pre>\n"
      ],
      "text/plain": [
       "Absoulte Trajectory Error      \u001b[1m(\u001b[0mcm\u001b[1m)\u001b[0m: \u001b[1;36m0.299\u001b[0m\n"
      ]
     },
     "metadata": {},
     "output_type": "display_data"
    },
    {
     "name": "stdout",
     "output_type": "stream",
     "text": [
      "Now evaluate sequence office2\n"
     ]
    },
    {
     "name": "stderr",
     "output_type": "stream",
     "text": [
      "100%|██████████|2000/2000\n"
     ]
    },
    {
     "data": {
      "text/html": [
       "<pre style=\"white-space:pre;overflow-x:auto;line-height:normal;font-family:Menlo,'DejaVu Sans Mono',consolas,'Courier New',monospace\">Odometry evaluation:\n",
       "</pre>\n"
      ],
      "text/plain": [
       "Odometry evaluation:\n"
      ]
     },
     "metadata": {},
     "output_type": "display_data"
    },
    {
     "data": {
      "text/html": [
       "<pre style=\"white-space:pre;overflow-x:auto;line-height:normal;font-family:Menlo,'DejaVu Sans Mono',consolas,'Courier New',monospace\">Absoulte Trajectory Error      <span style=\"font-weight: bold\">(</span>cm<span style=\"font-weight: bold\">)</span>: <span style=\"color: #008080; text-decoration-color: #008080; font-weight: bold\">0.278</span>\n",
       "</pre>\n"
      ],
      "text/plain": [
       "Absoulte Trajectory Error      \u001b[1m(\u001b[0mcm\u001b[1m)\u001b[0m: \u001b[1;36m0.278\u001b[0m\n"
      ]
     },
     "metadata": {},
     "output_type": "display_data"
    },
    {
     "name": "stdout",
     "output_type": "stream",
     "text": [
      "Now evaluate sequence office3\n"
     ]
    },
    {
     "name": "stderr",
     "output_type": "stream",
     "text": [
      "100%|██████████|2000/2000\n"
     ]
    },
    {
     "data": {
      "text/html": [
       "<pre style=\"white-space:pre;overflow-x:auto;line-height:normal;font-family:Menlo,'DejaVu Sans Mono',consolas,'Courier New',monospace\">Odometry evaluation:\n",
       "</pre>\n"
      ],
      "text/plain": [
       "Odometry evaluation:\n"
      ]
     },
     "metadata": {},
     "output_type": "display_data"
    },
    {
     "data": {
      "text/html": [
       "<pre style=\"white-space:pre;overflow-x:auto;line-height:normal;font-family:Menlo,'DejaVu Sans Mono',consolas,'Courier New',monospace\">Absoulte Trajectory Error      <span style=\"font-weight: bold\">(</span>cm<span style=\"font-weight: bold\">)</span>: <span style=\"color: #008080; text-decoration-color: #008080; font-weight: bold\">0.163</span>\n",
       "</pre>\n"
      ],
      "text/plain": [
       "Absoulte Trajectory Error      \u001b[1m(\u001b[0mcm\u001b[1m)\u001b[0m: \u001b[1;36m0.163\u001b[0m\n"
      ]
     },
     "metadata": {},
     "output_type": "display_data"
    },
    {
     "name": "stdout",
     "output_type": "stream",
     "text": [
      "Now evaluate sequence office4\n"
     ]
    },
    {
     "name": "stderr",
     "output_type": "stream",
     "text": [
      "100%|██████████|2000/2000\n"
     ]
    },
    {
     "data": {
      "text/html": [
       "<pre style=\"white-space:pre;overflow-x:auto;line-height:normal;font-family:Menlo,'DejaVu Sans Mono',consolas,'Courier New',monospace\">Odometry evaluation:\n",
       "</pre>\n"
      ],
      "text/plain": [
       "Odometry evaluation:\n"
      ]
     },
     "metadata": {},
     "output_type": "display_data"
    },
    {
     "data": {
      "text/html": [
       "<pre style=\"white-space:pre;overflow-x:auto;line-height:normal;font-family:Menlo,'DejaVu Sans Mono',consolas,'Courier New',monospace\">Absoulte Trajectory Error      <span style=\"font-weight: bold\">(</span>cm<span style=\"font-weight: bold\">)</span>: <span style=\"color: #008080; text-decoration-color: #008080; font-weight: bold\">0.280</span>\n",
       "</pre>\n"
      ],
      "text/plain": [
       "Absoulte Trajectory Error      \u001b[1m(\u001b[0mcm\u001b[1m)\u001b[0m: \u001b[1;36m0.280\u001b[0m\n"
      ]
     },
     "metadata": {},
     "output_type": "display_data"
    },
    {
     "data": {
      "text/markdown": [
       "# Experiment Results (Replica dataset) \n",
       "|Metric|Value|\n",
       "|-:|:-|\n",
       "|Absoulte Trajectory Error [cm]|0.24|\n"
      ]
     },
     "metadata": {},
     "output_type": "display_data"
    }
   ],
   "source": [
    "import pin_slam\n",
    "import torch\n",
    "from IPython.display import display_markdown\n",
    "\n",
    "print('Device used:', torch.cuda.get_device_name(0))\n",
    "\n",
    "rmse_list = []\n",
    "seq_list = ['room0', 'room1', 'room2', 'office0', 'office1', 'office2', 'office3', 'office4']\n",
    "for seq_str in seq_list:\n",
    "    print('Now evaluate sequence '+ seq_str)\n",
    "    seq_results = pin_slam.run_pin_slam('./config/rgbd_slam/run_replica.yaml', 'replica', seq_str)\n",
    "    rmse_list.append(seq_results[0]['Absoulte Trajectory Error [m]'])\n",
    "\n",
    "rmse_mean_cm = sum(rmse_list)/len(rmse_list)*100.0\n",
    "table_results = f\"# Experiment Results (Replica dataset) \\n|Metric|Value|\\n|-:|:-|\\n\"\n",
    "rmse_key = 'Absoulte Trajectory Error [cm]'\n",
    "table_results += f\"|{rmse_key}|{rmse_mean_cm:.2f}|\\n\"\n",
    "display_markdown(table_results, raw=True)\n"
   ]
  }
 ],
 "metadata": {
  "interpreter": {
   "hash": "23ab7127a0bd204976f8870b5ba7b53bf3b662fb0566b25d6a446c21e6a7408b"
  },
  "kernelspec": {
   "display_name": "Python 3.8.17 ('pin')",
   "language": "python",
   "name": "python3"
  },
  "language_info": {
   "codemirror_mode": {
    "name": "ipython",
    "version": 3
   },
   "file_extension": ".py",
   "mimetype": "text/x-python",
   "name": "python",
   "nbconvert_exporter": "python",
   "pygments_lexer": "ipython3",
   "version": "3.8.19"
  },
  "orig_nbformat": 4
 },
 "nbformat": 4,
 "nbformat_minor": 2
}
